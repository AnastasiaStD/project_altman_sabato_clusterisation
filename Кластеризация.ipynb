{
  "cells": [
    {
      "cell_type": "code",
      "execution_count": null,
      "metadata": {
        "id": "cmgqIvP2KeLJ"
      },
      "outputs": [],
      "source": [
        "#Импортируем необходимые библиотеки\n",
        "\n",
        "import math\n",
        "import numpy as np # Линейная алгебра и многомерные массивы\n",
        "import pandas as pd # Работа с таблицами данных\n",
        "import matplotlib.pyplot as plt # Графическая библиотека\n",
        "from ipywidgets import widgets, interact # Интерактивные виджеты\n",
        "import seaborn as sns\n",
        "from sklearn.cluster import KMeans\n",
        "\n",
        "# Техническая функция. Иногда потребуется сравнивать два float числа на равенство\n",
        "def is_equal(x, y):\n",
        "    return abs(x-y) < 1e-6"
      ]
    },
    {
      "cell_type": "code",
      "source": [
        "from google.colab import drive\n",
        "drive.mount('/content/drive')"
      ],
      "metadata": {
        "colab": {
          "base_uri": "https://localhost:8080/"
        },
        "id": "cdJbl_j5NvPe",
        "outputId": "1bee8540-5c59-4ab6-d71e-b03b7671d986"
      },
      "execution_count": null,
      "outputs": [
        {
          "output_type": "stream",
          "name": "stdout",
          "text": [
            "Mounted at /content/drive\n"
          ]
        }
      ]
    },
    {
      "cell_type": "markdown",
      "metadata": {
        "id": "FGKf9vaPP2IY"
      },
      "source": [
        "# Загрузка таблиц"
      ]
    },
    {
      "cell_type": "code",
      "execution_count": null,
      "metadata": {
        "id": "_yJNyk-vbcu6"
      },
      "outputs": [],
      "source": [
        "data_2018 = pd.read_excel(\"/content/drive/MyDrive/ИПС/Альтман по годам/Альтман_2018.xlsx\")"
      ]
    },
    {
      "cell_type": "code",
      "execution_count": null,
      "metadata": {
        "id": "Rsfpv_SbcE5D"
      },
      "outputs": [],
      "source": [
        "data_2019 = pd.read_excel(\"/content/drive/MyDrive/ИПС/Альтман по годам/Альтман_2019.xlsx\")"
      ]
    },
    {
      "cell_type": "code",
      "execution_count": null,
      "metadata": {
        "id": "f5BWCQKVcZDD"
      },
      "outputs": [],
      "source": [
        "data_2020 = pd.read_excel(\"/content/drive/MyDrive/ИПС/Альтман по годам/Альтман_2020.xlsx\")"
      ]
    },
    {
      "cell_type": "code",
      "execution_count": null,
      "metadata": {
        "id": "IxBzr35Mcb0j"
      },
      "outputs": [],
      "source": [
        "data_2021 = pd.read_excel(\"/content/drive/MyDrive/ИПС/Альтман по годам/Альтман_2021.xlsx\")"
      ]
    },
    {
      "cell_type": "code",
      "execution_count": null,
      "metadata": {
        "id": "Vsq47FMSceNL"
      },
      "outputs": [],
      "source": [
        "data_2022 = pd.read_excel(\"/content/drive/MyDrive/ИПС/Альтман по годам/Альтман_2022.xlsx\")"
      ]
    },
    {
      "cell_type": "code",
      "execution_count": null,
      "metadata": {
        "id": "YPg4GaK4hXRJ"
      },
      "outputs": [],
      "source": [
        "#companies = pd.read_excel(\"/content/drive/MyDrive/ИПС/Данные/Итог.xlsx\")"
      ]
    },
    {
      "cell_type": "code",
      "source": [
        "altman_components = pd.read_excel(\"/content/drive/MyDrive/ИПС/Альтман по годам/Альтман со значениями.xlsx\")\n",
        "altman_components"
      ],
      "metadata": {
        "id": "ADpxxO86ckoU",
        "colab": {
          "base_uri": "https://localhost:8080/",
          "height": 439
        },
        "outputId": "3114da61-fd5e-47aa-a9b5-7c5d83bf4f30"
      },
      "execution_count": null,
      "outputs": [
        {
          "output_type": "execute_result",
          "data": {
            "text/plain": [
              "      x1_2018   x2_2018   x3_2018   x4_2018      x5_2018  result_2018  \\\n",
              "0    0.132792  0.150271  0.123488  0.080846    30.083555    58.853014   \n",
              "1    0.047175  0.414882  0.040481  0.000450     6.399180    44.327714   \n",
              "2    0.016936  0.219454  0.010930  0.004107     1.935829    46.501760   \n",
              "3    0.030718  0.337814  0.023916  0.016923    17.616438    53.084890   \n",
              "4    0.021713  0.327202  0.008214  0.004046     0.605941    43.742576   \n",
              "..        ...       ...       ...       ...          ...          ...   \n",
              "809  0.364145  0.115660  0.284339  0.111694    77.290093    63.749443   \n",
              "810  0.828790  0.737330  0.661423  0.224279  5076.734375    79.790352   \n",
              "811  0.297018  0.263262  0.231879  0.006651    13.259309    53.439743   \n",
              "812  0.144957  0.136189  0.074084  0.017812     1.697385    50.337671   \n",
              "813  0.061227  0.665654  0.030894  0.012369     1.782717    47.390817   \n",
              "\n",
              "      x1_2019   x2_2019   x3_2019   x4_2019  ...   x4_2021     x5_2021  \\\n",
              "0    0.026604  0.182458  0.021044  0.002824  ...  0.050461   11.000227   \n",
              "1    0.036399  0.107456  0.031845  0.016594  ...  0.133007   40.255275   \n",
              "2    0.017781  0.058766  0.013083  0.001621  ...  0.110121   16.954390   \n",
              "3    0.136112  0.288295  0.107279  0.047946  ...  0.021798   25.881232   \n",
              "4    0.019582  0.306532  0.007622  0.005307  ...  0.006680    5.228365   \n",
              "..        ...       ...       ...       ...  ...       ...         ...   \n",
              "809  0.534413  0.146351  0.425280  0.247475  ...  0.063550  230.262643   \n",
              "810  0.556392  0.384241  0.444208  0.386879  ...  0.194862  319.935331   \n",
              "811  0.234432  0.180735  0.178173  0.372994  ...  0.095622   17.302898   \n",
              "812  0.097732  0.241705  0.044703  0.003287  ...  0.005554    1.276515   \n",
              "813  0.096257  0.636492  0.058447  0.008965  ...  0.018043    1.711057   \n",
              "\n",
              "     result_2021   x1_2022   x2_2022   x3_2022   x4_2022       x5_2022  \\\n",
              "0      55.723564  0.057477  0.140509  0.054547  0.011106     10.813744   \n",
              "1      60.721032  0.003015  0.244177  0.005419  0.026538      2.242441   \n",
              "2      68.172145  0.017772  0.050712  0.051831  0.203902  11405.000000   \n",
              "3      57.767874  0.130456  0.149579  0.105570  0.019036     17.229779   \n",
              "4      49.510935  0.042792  0.284123  0.014409  0.016640      0.532235   \n",
              "..           ...       ...       ...       ...       ...           ...   \n",
              "809    66.763095  0.371051  0.269683  0.291467  0.025774     28.578130   \n",
              "810    67.401769  0.301868  0.096536  0.294708  0.471787     99.631076   \n",
              "811    57.619734  0.151861  0.105087  0.144167  0.261569     28.288004   \n",
              "812    46.318560  0.177035  0.117589  0.103079  0.023426      3.185545   \n",
              "813    47.881824  0.163470  0.525750  0.117927  0.011181      7.176773   \n",
              "\n",
              "     result_2022  index_column  \n",
              "0      52.592245         13333  \n",
              "1      50.022248         13951  \n",
              "2      72.630547         32840  \n",
              "3      55.000570         37723  \n",
              "4      46.364716         50831  \n",
              "..           ...           ...  \n",
              "809    58.222622        160799  \n",
              "810    66.785925        160891  \n",
              "811    61.490676        160910  \n",
              "812    52.542067        160924  \n",
              "813    51.094410        160934  \n",
              "\n",
              "[814 rows x 31 columns]"
            ],
            "text/html": [
              "\n",
              "  <div id=\"df-a78e7ff2-b42a-47b3-87c3-c6d71d92c65b\" class=\"colab-df-container\">\n",
              "    <div>\n",
              "<style scoped>\n",
              "    .dataframe tbody tr th:only-of-type {\n",
              "        vertical-align: middle;\n",
              "    }\n",
              "\n",
              "    .dataframe tbody tr th {\n",
              "        vertical-align: top;\n",
              "    }\n",
              "\n",
              "    .dataframe thead th {\n",
              "        text-align: right;\n",
              "    }\n",
              "</style>\n",
              "<table border=\"1\" class=\"dataframe\">\n",
              "  <thead>\n",
              "    <tr style=\"text-align: right;\">\n",
              "      <th></th>\n",
              "      <th>x1_2018</th>\n",
              "      <th>x2_2018</th>\n",
              "      <th>x3_2018</th>\n",
              "      <th>x4_2018</th>\n",
              "      <th>x5_2018</th>\n",
              "      <th>result_2018</th>\n",
              "      <th>x1_2019</th>\n",
              "      <th>x2_2019</th>\n",
              "      <th>x3_2019</th>\n",
              "      <th>x4_2019</th>\n",
              "      <th>...</th>\n",
              "      <th>x4_2021</th>\n",
              "      <th>x5_2021</th>\n",
              "      <th>result_2021</th>\n",
              "      <th>x1_2022</th>\n",
              "      <th>x2_2022</th>\n",
              "      <th>x3_2022</th>\n",
              "      <th>x4_2022</th>\n",
              "      <th>x5_2022</th>\n",
              "      <th>result_2022</th>\n",
              "      <th>index_column</th>\n",
              "    </tr>\n",
              "  </thead>\n",
              "  <tbody>\n",
              "    <tr>\n",
              "      <th>0</th>\n",
              "      <td>0.132792</td>\n",
              "      <td>0.150271</td>\n",
              "      <td>0.123488</td>\n",
              "      <td>0.080846</td>\n",
              "      <td>30.083555</td>\n",
              "      <td>58.853014</td>\n",
              "      <td>0.026604</td>\n",
              "      <td>0.182458</td>\n",
              "      <td>0.021044</td>\n",
              "      <td>0.002824</td>\n",
              "      <td>...</td>\n",
              "      <td>0.050461</td>\n",
              "      <td>11.000227</td>\n",
              "      <td>55.723564</td>\n",
              "      <td>0.057477</td>\n",
              "      <td>0.140509</td>\n",
              "      <td>0.054547</td>\n",
              "      <td>0.011106</td>\n",
              "      <td>10.813744</td>\n",
              "      <td>52.592245</td>\n",
              "      <td>13333</td>\n",
              "    </tr>\n",
              "    <tr>\n",
              "      <th>1</th>\n",
              "      <td>0.047175</td>\n",
              "      <td>0.414882</td>\n",
              "      <td>0.040481</td>\n",
              "      <td>0.000450</td>\n",
              "      <td>6.399180</td>\n",
              "      <td>44.327714</td>\n",
              "      <td>0.036399</td>\n",
              "      <td>0.107456</td>\n",
              "      <td>0.031845</td>\n",
              "      <td>0.016594</td>\n",
              "      <td>...</td>\n",
              "      <td>0.133007</td>\n",
              "      <td>40.255275</td>\n",
              "      <td>60.721032</td>\n",
              "      <td>0.003015</td>\n",
              "      <td>0.244177</td>\n",
              "      <td>0.005419</td>\n",
              "      <td>0.026538</td>\n",
              "      <td>2.242441</td>\n",
              "      <td>50.022248</td>\n",
              "      <td>13951</td>\n",
              "    </tr>\n",
              "    <tr>\n",
              "      <th>2</th>\n",
              "      <td>0.016936</td>\n",
              "      <td>0.219454</td>\n",
              "      <td>0.010930</td>\n",
              "      <td>0.004107</td>\n",
              "      <td>1.935829</td>\n",
              "      <td>46.501760</td>\n",
              "      <td>0.017781</td>\n",
              "      <td>0.058766</td>\n",
              "      <td>0.013083</td>\n",
              "      <td>0.001621</td>\n",
              "      <td>...</td>\n",
              "      <td>0.110121</td>\n",
              "      <td>16.954390</td>\n",
              "      <td>68.172145</td>\n",
              "      <td>0.017772</td>\n",
              "      <td>0.050712</td>\n",
              "      <td>0.051831</td>\n",
              "      <td>0.203902</td>\n",
              "      <td>11405.000000</td>\n",
              "      <td>72.630547</td>\n",
              "      <td>32840</td>\n",
              "    </tr>\n",
              "    <tr>\n",
              "      <th>3</th>\n",
              "      <td>0.030718</td>\n",
              "      <td>0.337814</td>\n",
              "      <td>0.023916</td>\n",
              "      <td>0.016923</td>\n",
              "      <td>17.616438</td>\n",
              "      <td>53.084890</td>\n",
              "      <td>0.136112</td>\n",
              "      <td>0.288295</td>\n",
              "      <td>0.107279</td>\n",
              "      <td>0.047946</td>\n",
              "      <td>...</td>\n",
              "      <td>0.021798</td>\n",
              "      <td>25.881232</td>\n",
              "      <td>57.767874</td>\n",
              "      <td>0.130456</td>\n",
              "      <td>0.149579</td>\n",
              "      <td>0.105570</td>\n",
              "      <td>0.019036</td>\n",
              "      <td>17.229779</td>\n",
              "      <td>55.000570</td>\n",
              "      <td>37723</td>\n",
              "    </tr>\n",
              "    <tr>\n",
              "      <th>4</th>\n",
              "      <td>0.021713</td>\n",
              "      <td>0.327202</td>\n",
              "      <td>0.008214</td>\n",
              "      <td>0.004046</td>\n",
              "      <td>0.605941</td>\n",
              "      <td>43.742576</td>\n",
              "      <td>0.019582</td>\n",
              "      <td>0.306532</td>\n",
              "      <td>0.007622</td>\n",
              "      <td>0.005307</td>\n",
              "      <td>...</td>\n",
              "      <td>0.006680</td>\n",
              "      <td>5.228365</td>\n",
              "      <td>49.510935</td>\n",
              "      <td>0.042792</td>\n",
              "      <td>0.284123</td>\n",
              "      <td>0.014409</td>\n",
              "      <td>0.016640</td>\n",
              "      <td>0.532235</td>\n",
              "      <td>46.364716</td>\n",
              "      <td>50831</td>\n",
              "    </tr>\n",
              "    <tr>\n",
              "      <th>...</th>\n",
              "      <td>...</td>\n",
              "      <td>...</td>\n",
              "      <td>...</td>\n",
              "      <td>...</td>\n",
              "      <td>...</td>\n",
              "      <td>...</td>\n",
              "      <td>...</td>\n",
              "      <td>...</td>\n",
              "      <td>...</td>\n",
              "      <td>...</td>\n",
              "      <td>...</td>\n",
              "      <td>...</td>\n",
              "      <td>...</td>\n",
              "      <td>...</td>\n",
              "      <td>...</td>\n",
              "      <td>...</td>\n",
              "      <td>...</td>\n",
              "      <td>...</td>\n",
              "      <td>...</td>\n",
              "      <td>...</td>\n",
              "      <td>...</td>\n",
              "    </tr>\n",
              "    <tr>\n",
              "      <th>809</th>\n",
              "      <td>0.364145</td>\n",
              "      <td>0.115660</td>\n",
              "      <td>0.284339</td>\n",
              "      <td>0.111694</td>\n",
              "      <td>77.290093</td>\n",
              "      <td>63.749443</td>\n",
              "      <td>0.534413</td>\n",
              "      <td>0.146351</td>\n",
              "      <td>0.425280</td>\n",
              "      <td>0.247475</td>\n",
              "      <td>...</td>\n",
              "      <td>0.063550</td>\n",
              "      <td>230.262643</td>\n",
              "      <td>66.763095</td>\n",
              "      <td>0.371051</td>\n",
              "      <td>0.269683</td>\n",
              "      <td>0.291467</td>\n",
              "      <td>0.025774</td>\n",
              "      <td>28.578130</td>\n",
              "      <td>58.222622</td>\n",
              "      <td>160799</td>\n",
              "    </tr>\n",
              "    <tr>\n",
              "      <th>810</th>\n",
              "      <td>0.828790</td>\n",
              "      <td>0.737330</td>\n",
              "      <td>0.661423</td>\n",
              "      <td>0.224279</td>\n",
              "      <td>5076.734375</td>\n",
              "      <td>79.790352</td>\n",
              "      <td>0.556392</td>\n",
              "      <td>0.384241</td>\n",
              "      <td>0.444208</td>\n",
              "      <td>0.386879</td>\n",
              "      <td>...</td>\n",
              "      <td>0.194862</td>\n",
              "      <td>319.935331</td>\n",
              "      <td>67.401769</td>\n",
              "      <td>0.301868</td>\n",
              "      <td>0.096536</td>\n",
              "      <td>0.294708</td>\n",
              "      <td>0.471787</td>\n",
              "      <td>99.631076</td>\n",
              "      <td>66.785925</td>\n",
              "      <td>160891</td>\n",
              "    </tr>\n",
              "    <tr>\n",
              "      <th>811</th>\n",
              "      <td>0.297018</td>\n",
              "      <td>0.263262</td>\n",
              "      <td>0.231879</td>\n",
              "      <td>0.006651</td>\n",
              "      <td>13.259309</td>\n",
              "      <td>53.439743</td>\n",
              "      <td>0.234432</td>\n",
              "      <td>0.180735</td>\n",
              "      <td>0.178173</td>\n",
              "      <td>0.372994</td>\n",
              "      <td>...</td>\n",
              "      <td>0.095622</td>\n",
              "      <td>17.302898</td>\n",
              "      <td>57.619734</td>\n",
              "      <td>0.151861</td>\n",
              "      <td>0.105087</td>\n",
              "      <td>0.144167</td>\n",
              "      <td>0.261569</td>\n",
              "      <td>28.288004</td>\n",
              "      <td>61.490676</td>\n",
              "      <td>160910</td>\n",
              "    </tr>\n",
              "    <tr>\n",
              "      <th>812</th>\n",
              "      <td>0.144957</td>\n",
              "      <td>0.136189</td>\n",
              "      <td>0.074084</td>\n",
              "      <td>0.017812</td>\n",
              "      <td>1.697385</td>\n",
              "      <td>50.337671</td>\n",
              "      <td>0.097732</td>\n",
              "      <td>0.241705</td>\n",
              "      <td>0.044703</td>\n",
              "      <td>0.003287</td>\n",
              "      <td>...</td>\n",
              "      <td>0.005554</td>\n",
              "      <td>1.276515</td>\n",
              "      <td>46.318560</td>\n",
              "      <td>0.177035</td>\n",
              "      <td>0.117589</td>\n",
              "      <td>0.103079</td>\n",
              "      <td>0.023426</td>\n",
              "      <td>3.185545</td>\n",
              "      <td>52.542067</td>\n",
              "      <td>160924</td>\n",
              "    </tr>\n",
              "    <tr>\n",
              "      <th>813</th>\n",
              "      <td>0.061227</td>\n",
              "      <td>0.665654</td>\n",
              "      <td>0.030894</td>\n",
              "      <td>0.012369</td>\n",
              "      <td>1.782717</td>\n",
              "      <td>47.390817</td>\n",
              "      <td>0.096257</td>\n",
              "      <td>0.636492</td>\n",
              "      <td>0.058447</td>\n",
              "      <td>0.008965</td>\n",
              "      <td>...</td>\n",
              "      <td>0.018043</td>\n",
              "      <td>1.711057</td>\n",
              "      <td>47.881824</td>\n",
              "      <td>0.163470</td>\n",
              "      <td>0.525750</td>\n",
              "      <td>0.117927</td>\n",
              "      <td>0.011181</td>\n",
              "      <td>7.176773</td>\n",
              "      <td>51.094410</td>\n",
              "      <td>160934</td>\n",
              "    </tr>\n",
              "  </tbody>\n",
              "</table>\n",
              "<p>814 rows × 31 columns</p>\n",
              "</div>\n",
              "    <div class=\"colab-df-buttons\">\n",
              "\n",
              "  <div class=\"colab-df-container\">\n",
              "    <button class=\"colab-df-convert\" onclick=\"convertToInteractive('df-a78e7ff2-b42a-47b3-87c3-c6d71d92c65b')\"\n",
              "            title=\"Convert this dataframe to an interactive table.\"\n",
              "            style=\"display:none;\">\n",
              "\n",
              "  <svg xmlns=\"http://www.w3.org/2000/svg\" height=\"24px\" viewBox=\"0 -960 960 960\">\n",
              "    <path d=\"M120-120v-720h720v720H120Zm60-500h600v-160H180v160Zm220 220h160v-160H400v160Zm0 220h160v-160H400v160ZM180-400h160v-160H180v160Zm440 0h160v-160H620v160ZM180-180h160v-160H180v160Zm440 0h160v-160H620v160Z\"/>\n",
              "  </svg>\n",
              "    </button>\n",
              "\n",
              "  <style>\n",
              "    .colab-df-container {\n",
              "      display:flex;\n",
              "      gap: 12px;\n",
              "    }\n",
              "\n",
              "    .colab-df-convert {\n",
              "      background-color: #E8F0FE;\n",
              "      border: none;\n",
              "      border-radius: 50%;\n",
              "      cursor: pointer;\n",
              "      display: none;\n",
              "      fill: #1967D2;\n",
              "      height: 32px;\n",
              "      padding: 0 0 0 0;\n",
              "      width: 32px;\n",
              "    }\n",
              "\n",
              "    .colab-df-convert:hover {\n",
              "      background-color: #E2EBFA;\n",
              "      box-shadow: 0px 1px 2px rgba(60, 64, 67, 0.3), 0px 1px 3px 1px rgba(60, 64, 67, 0.15);\n",
              "      fill: #174EA6;\n",
              "    }\n",
              "\n",
              "    .colab-df-buttons div {\n",
              "      margin-bottom: 4px;\n",
              "    }\n",
              "\n",
              "    [theme=dark] .colab-df-convert {\n",
              "      background-color: #3B4455;\n",
              "      fill: #D2E3FC;\n",
              "    }\n",
              "\n",
              "    [theme=dark] .colab-df-convert:hover {\n",
              "      background-color: #434B5C;\n",
              "      box-shadow: 0px 1px 3px 1px rgba(0, 0, 0, 0.15);\n",
              "      filter: drop-shadow(0px 1px 2px rgba(0, 0, 0, 0.3));\n",
              "      fill: #FFFFFF;\n",
              "    }\n",
              "  </style>\n",
              "\n",
              "    <script>\n",
              "      const buttonEl =\n",
              "        document.querySelector('#df-a78e7ff2-b42a-47b3-87c3-c6d71d92c65b button.colab-df-convert');\n",
              "      buttonEl.style.display =\n",
              "        google.colab.kernel.accessAllowed ? 'block' : 'none';\n",
              "\n",
              "      async function convertToInteractive(key) {\n",
              "        const element = document.querySelector('#df-a78e7ff2-b42a-47b3-87c3-c6d71d92c65b');\n",
              "        const dataTable =\n",
              "          await google.colab.kernel.invokeFunction('convertToInteractive',\n",
              "                                                    [key], {});\n",
              "        if (!dataTable) return;\n",
              "\n",
              "        const docLinkHtml = 'Like what you see? Visit the ' +\n",
              "          '<a target=\"_blank\" href=https://colab.research.google.com/notebooks/data_table.ipynb>data table notebook</a>'\n",
              "          + ' to learn more about interactive tables.';\n",
              "        element.innerHTML = '';\n",
              "        dataTable['output_type'] = 'display_data';\n",
              "        await google.colab.output.renderOutput(dataTable, element);\n",
              "        const docLink = document.createElement('div');\n",
              "        docLink.innerHTML = docLinkHtml;\n",
              "        element.appendChild(docLink);\n",
              "      }\n",
              "    </script>\n",
              "  </div>\n",
              "\n",
              "\n",
              "<div id=\"df-2da4df86-fb6d-405b-95d0-19c9e215f413\">\n",
              "  <button class=\"colab-df-quickchart\" onclick=\"quickchart('df-2da4df86-fb6d-405b-95d0-19c9e215f413')\"\n",
              "            title=\"Suggest charts\"\n",
              "            style=\"display:none;\">\n",
              "\n",
              "<svg xmlns=\"http://www.w3.org/2000/svg\" height=\"24px\"viewBox=\"0 0 24 24\"\n",
              "     width=\"24px\">\n",
              "    <g>\n",
              "        <path d=\"M19 3H5c-1.1 0-2 .9-2 2v14c0 1.1.9 2 2 2h14c1.1 0 2-.9 2-2V5c0-1.1-.9-2-2-2zM9 17H7v-7h2v7zm4 0h-2V7h2v10zm4 0h-2v-4h2v4z\"/>\n",
              "    </g>\n",
              "</svg>\n",
              "  </button>\n",
              "\n",
              "<style>\n",
              "  .colab-df-quickchart {\n",
              "      --bg-color: #E8F0FE;\n",
              "      --fill-color: #1967D2;\n",
              "      --hover-bg-color: #E2EBFA;\n",
              "      --hover-fill-color: #174EA6;\n",
              "      --disabled-fill-color: #AAA;\n",
              "      --disabled-bg-color: #DDD;\n",
              "  }\n",
              "\n",
              "  [theme=dark] .colab-df-quickchart {\n",
              "      --bg-color: #3B4455;\n",
              "      --fill-color: #D2E3FC;\n",
              "      --hover-bg-color: #434B5C;\n",
              "      --hover-fill-color: #FFFFFF;\n",
              "      --disabled-bg-color: #3B4455;\n",
              "      --disabled-fill-color: #666;\n",
              "  }\n",
              "\n",
              "  .colab-df-quickchart {\n",
              "    background-color: var(--bg-color);\n",
              "    border: none;\n",
              "    border-radius: 50%;\n",
              "    cursor: pointer;\n",
              "    display: none;\n",
              "    fill: var(--fill-color);\n",
              "    height: 32px;\n",
              "    padding: 0;\n",
              "    width: 32px;\n",
              "  }\n",
              "\n",
              "  .colab-df-quickchart:hover {\n",
              "    background-color: var(--hover-bg-color);\n",
              "    box-shadow: 0 1px 2px rgba(60, 64, 67, 0.3), 0 1px 3px 1px rgba(60, 64, 67, 0.15);\n",
              "    fill: var(--button-hover-fill-color);\n",
              "  }\n",
              "\n",
              "  .colab-df-quickchart-complete:disabled,\n",
              "  .colab-df-quickchart-complete:disabled:hover {\n",
              "    background-color: var(--disabled-bg-color);\n",
              "    fill: var(--disabled-fill-color);\n",
              "    box-shadow: none;\n",
              "  }\n",
              "\n",
              "  .colab-df-spinner {\n",
              "    border: 2px solid var(--fill-color);\n",
              "    border-color: transparent;\n",
              "    border-bottom-color: var(--fill-color);\n",
              "    animation:\n",
              "      spin 1s steps(1) infinite;\n",
              "  }\n",
              "\n",
              "  @keyframes spin {\n",
              "    0% {\n",
              "      border-color: transparent;\n",
              "      border-bottom-color: var(--fill-color);\n",
              "      border-left-color: var(--fill-color);\n",
              "    }\n",
              "    20% {\n",
              "      border-color: transparent;\n",
              "      border-left-color: var(--fill-color);\n",
              "      border-top-color: var(--fill-color);\n",
              "    }\n",
              "    30% {\n",
              "      border-color: transparent;\n",
              "      border-left-color: var(--fill-color);\n",
              "      border-top-color: var(--fill-color);\n",
              "      border-right-color: var(--fill-color);\n",
              "    }\n",
              "    40% {\n",
              "      border-color: transparent;\n",
              "      border-right-color: var(--fill-color);\n",
              "      border-top-color: var(--fill-color);\n",
              "    }\n",
              "    60% {\n",
              "      border-color: transparent;\n",
              "      border-right-color: var(--fill-color);\n",
              "    }\n",
              "    80% {\n",
              "      border-color: transparent;\n",
              "      border-right-color: var(--fill-color);\n",
              "      border-bottom-color: var(--fill-color);\n",
              "    }\n",
              "    90% {\n",
              "      border-color: transparent;\n",
              "      border-bottom-color: var(--fill-color);\n",
              "    }\n",
              "  }\n",
              "</style>\n",
              "\n",
              "  <script>\n",
              "    async function quickchart(key) {\n",
              "      const quickchartButtonEl =\n",
              "        document.querySelector('#' + key + ' button');\n",
              "      quickchartButtonEl.disabled = true;  // To prevent multiple clicks.\n",
              "      quickchartButtonEl.classList.add('colab-df-spinner');\n",
              "      try {\n",
              "        const charts = await google.colab.kernel.invokeFunction(\n",
              "            'suggestCharts', [key], {});\n",
              "      } catch (error) {\n",
              "        console.error('Error during call to suggestCharts:', error);\n",
              "      }\n",
              "      quickchartButtonEl.classList.remove('colab-df-spinner');\n",
              "      quickchartButtonEl.classList.add('colab-df-quickchart-complete');\n",
              "    }\n",
              "    (() => {\n",
              "      let quickchartButtonEl =\n",
              "        document.querySelector('#df-2da4df86-fb6d-405b-95d0-19c9e215f413 button');\n",
              "      quickchartButtonEl.style.display =\n",
              "        google.colab.kernel.accessAllowed ? 'block' : 'none';\n",
              "    })();\n",
              "  </script>\n",
              "</div>\n",
              "    </div>\n",
              "  </div>\n"
            ],
            "application/vnd.google.colaboratory.intrinsic+json": {
              "type": "dataframe",
              "variable_name": "altman_components"
            }
          },
          "metadata": {},
          "execution_count": 10
        }
      ]
    },
    {
      "cell_type": "code",
      "execution_count": null,
      "metadata": {
        "colab": {
          "base_uri": "https://localhost:8080/"
        },
        "id": "ooLx4yWFC3pI",
        "outputId": "43f2e1e2-7ee7-4fef-88da-d637544d33bf"
      },
      "outputs": [
        {
          "output_type": "execute_result",
          "data": {
            "text/plain": [
              "65.47015544215424"
            ]
          },
          "metadata": {},
          "execution_count": 11
        }
      ],
      "source": [
        "data_2018['result_2018'].quantile(0.95)"
      ]
    },
    {
      "cell_type": "code",
      "execution_count": null,
      "metadata": {
        "id": "iU_ciSD7DzCU",
        "colab": {
          "base_uri": "https://localhost:8080/",
          "height": 54
        },
        "outputId": "3054bf08-ac07-4673-ac7e-b098729786da"
      },
      "outputs": [
        {
          "output_type": "display_data",
          "data": {
            "text/plain": [
              "<Figure size 600x600 with 1 Axes>"
            ],
            "image/png": "[encoded data removed]"
          },
          "metadata": {}
        }
      ],
      "source": [
        "medians = [data_2018['result_2018'].quantile(0.5), data_2019['result_2019'].quantile(0.5), data_2020['result_2020'].quantile(0.5), data_2021['result_2021'].quantile(0.5), data_2022['result_2022'].quantile(0.5)]\n",
        "means = [data_2018['result_2018'].mean(), data_2019['result_2019'].mean(), data_2020['result_2020'].mean(), data_2021['result_2021'].mean(), data_2022['result_2022'].mean()]\n",
        "years = [2018, 2019, 2020, 2021, 2022]\n",
        "\n",
        "plt.figure(figsize=(6, 6))\n",
        "plt.plot(years, medians, label='Medians', color='blue')\n",
        "plt.plot(years, means, label='Means', color='red')\n",
        "plt.xlabel('Year')\n",
        "plt.ylabel('Result')\n",
        "plt.title('Altman Results')\n",
        "plt.legend()\n",
        "plt.show()\n",
        "\n"
      ]
    },
    {
      "cell_type": "markdown",
      "metadata": {
        "id": "oWOLacjdPlGX"
      },
      "source": [
        "# Немного визуализаций"
      ]
    },
    {
      "cell_type": "code",
      "source": [
        "\n",
        "plt.figure(figsize=(10, 6))\n",
        "\n",
        "plt.subplot(3, 3, 1)\n",
        "sns.histplot(data_2022['result_2022'])\n",
        "plt.title('Распределение 2022 года')\n",
        "\n",
        "plt.subplot(3, 3, 2)\n",
        "sns.histplot(data_2021['result_2021'])\n",
        "plt.title('Распределение 2021 года')\n",
        "\n",
        "plt.subplot(3, 3, 3)\n",
        "sns.histplot(data_2020['result_2020'])\n",
        "plt.title('Распределение 2020 года')\n",
        "\n",
        "plt.subplot(3, 3, 4)\n",
        "sns.histplot(data_2019['result_2019'])\n",
        "plt.title('Распределение 2019 года')\n",
        "\n",
        "plt.subplot(3, 3, 5)\n",
        "sns.histplot(data_2018['result_2018'])\n",
        "plt.title('Распределение 2018 года')\n",
        "\n",
        "plt.tight_layout()\n",
        "plt.show()"
      ],
      "metadata": {
        "colab": {
          "base_uri": "https://localhost:8080/",
          "height": 440
        },
        "id": "1aYbo-e1sKuy",
        "outputId": "673e5df6-11fb-4cce-ada6-e9fc6ad2638b"
      },
      "execution_count": null,
      "outputs": [
        {
          "output_type": "display_data",
          "data": {
            "text/plain": [
              "<Figure size 1000x600 with 5 Axes>"
            ],
            "image/png": "[encoded data removed]"
          },
          "metadata": {}
        }
      ]
    },
    {
      "cell_type": "code",
      "execution_count": null,
      "metadata": {
        "colab": {
          "base_uri": "https://localhost:8080/",
          "height": 808
        },
        "id": "l-xHu3a1CYsM",
        "outputId": "9a1d46a3-7a06-4d8e-a884-cb102a3d7738"
      },
      "outputs": [
        {
          "output_type": "execute_result",
          "data": {
            "text/plain": [
              "<Axes: ylabel='result_2022'>"
            ]
          },
          "metadata": {},
          "execution_count": 14
        },
        {
          "output_type": "display_data",
          "data": {
            "text/plain": [
              "<Figure size 1500x1500 with 5 Axes>"
            ],
            "image/png": "[encoded data removed]"
          },
          "metadata": {}
        }
      ],
      "source": [
        "plt.figure(figsize = (15, 15))\n",
        "\n",
        "plt.subplot(3, 3, 1)\n",
        "sns.boxplot(data_2018['result_2018'])\n",
        "\n",
        "plt.subplot(3, 3, 2)\n",
        "sns.boxplot(data_2019['result_2019'])\n",
        "\n",
        "plt.subplot(3, 3, 3)\n",
        "sns.boxplot(data_2020['result_2020'])\n",
        "\n",
        "plt.subplot(3, 3, 4)\n",
        "sns.boxplot(data_2021['result_2021'])\n",
        "\n",
        "plt.subplot(3, 3, 5)\n",
        "sns.boxplot(data_2022['result_2022'])"
      ]
    },
    {
      "cell_type": "markdown",
      "metadata": {
        "id": "lt9oE7RsPr5I"
      },
      "source": [
        "# Кластеризация. Панельные данные"
      ]
    },
    {
      "cell_type": "code",
      "source": [
        "features = altman_components[['result_2018', 'result_2019', 'result_2020', 'result_2021', 'result_2022']]\n",
        "\n",
        "clustering = KMeans(n_clusters=3, random_state=5, n_init=\"auto\").fit(features)\n",
        "\n",
        "clustering.cluster_centers_"
      ],
      "metadata": {
        "colab": {
          "base_uri": "https://localhost:8080/"
        },
        "id": "UpnQO5jXP2bE",
        "outputId": "6d959663-30e7-4da9-f30e-3deb49d9f7b5"
      },
      "execution_count": null,
      "outputs": [
        {
          "output_type": "execute_result",
          "data": {
            "text/plain": [
              "array([[44.2254749 , 43.51681583, 45.22045245, 45.28862349, 45.61761823],\n",
              "       [58.50776856, 58.92525619, 61.47357563, 61.48658812, 59.84719595],\n",
              "       [51.25061619, 51.18705891, 52.27353302, 53.06606533, 52.85814781]])"
            ]
          },
          "metadata": {},
          "execution_count": 15
        }
      ]
    },
    {
      "cell_type": "code",
      "source": [
        "altman_components['cluster_number'] = clustering.labels_\n",
        "altman_components"
      ],
      "metadata": {
        "colab": {
          "base_uri": "https://localhost:8080/",
          "height": 439
        },
        "id": "uxNgVto-Pxnq",
        "outputId": "396f1b62-8c49-4fab-f719-6a13064979db"
      },
      "execution_count": null,
      "outputs": [
        {
          "output_type": "execute_result",
          "data": {
            "text/plain": [
              "      x1_2018   x2_2018   x3_2018   x4_2018      x5_2018  result_2018  \\\n",
              "0    0.132792  0.150271  0.123488  0.080846    30.083555    58.853014   \n",
              "1    0.047175  0.414882  0.040481  0.000450     6.399180    44.327714   \n",
              "2    0.016936  0.219454  0.010930  0.004107     1.935829    46.501760   \n",
              "3    0.030718  0.337814  0.023916  0.016923    17.616438    53.084890   \n",
              "4    0.021713  0.327202  0.008214  0.004046     0.605941    43.742576   \n",
              "..        ...       ...       ...       ...          ...          ...   \n",
              "809  0.364145  0.115660  0.284339  0.111694    77.290093    63.749443   \n",
              "810  0.828790  0.737330  0.661423  0.224279  5076.734375    79.790352   \n",
              "811  0.297018  0.263262  0.231879  0.006651    13.259309    53.439743   \n",
              "812  0.144957  0.136189  0.074084  0.017812     1.697385    50.337671   \n",
              "813  0.061227  0.665654  0.030894  0.012369     1.782717    47.390817   \n",
              "\n",
              "      x1_2019   x2_2019   x3_2019   x4_2019  ...     x5_2021  result_2021  \\\n",
              "0    0.026604  0.182458  0.021044  0.002824  ...   11.000227    55.723564   \n",
              "1    0.036399  0.107456  0.031845  0.016594  ...   40.255275    60.721032   \n",
              "2    0.017781  0.058766  0.013083  0.001621  ...   16.954390    68.172145   \n",
              "3    0.136112  0.288295  0.107279  0.047946  ...   25.881232    57.767874   \n",
              "4    0.019582  0.306532  0.007622  0.005307  ...    5.228365    49.510935   \n",
              "..        ...       ...       ...       ...  ...         ...          ...   \n",
              "809  0.534413  0.146351  0.425280  0.247475  ...  230.262643    66.763095   \n",
              "810  0.556392  0.384241  0.444208  0.386879  ...  319.935331    67.401769   \n",
              "811  0.234432  0.180735  0.178173  0.372994  ...   17.302898    57.619734   \n",
              "812  0.097732  0.241705  0.044703  0.003287  ...    1.276515    46.318560   \n",
              "813  0.096257  0.636492  0.058447  0.008965  ...    1.711057    47.881824   \n",
              "\n",
              "      x1_2022   x2_2022   x3_2022   x4_2022       x5_2022  result_2022  \\\n",
              "0    0.057477  0.140509  0.054547  0.011106     10.813744    52.592245   \n",
              "1    0.003015  0.244177  0.005419  0.026538      2.242441    50.022248   \n",
              "2    0.017772  0.050712  0.051831  0.203902  11405.000000    72.630547   \n",
              "3    0.130456  0.149579  0.105570  0.019036     17.229779    55.000570   \n",
              "4    0.042792  0.284123  0.014409  0.016640      0.532235    46.364716   \n",
              "..        ...       ...       ...       ...           ...          ...   \n",
              "809  0.371051  0.269683  0.291467  0.025774     28.578130    58.222622   \n",
              "810  0.301868  0.096536  0.294708  0.471787     99.631076    66.785925   \n",
              "811  0.151861  0.105087  0.144167  0.261569     28.288004    61.490676   \n",
              "812  0.177035  0.117589  0.103079  0.023426      3.185545    52.542067   \n",
              "813  0.163470  0.525750  0.117927  0.011181      7.176773    51.094410   \n",
              "\n",
              "     index_column  cluster_number  \n",
              "0           13333               2  \n",
              "1           13951               2  \n",
              "2           32840               1  \n",
              "3           37723               2  \n",
              "4           50831               0  \n",
              "..            ...             ...  \n",
              "809        160799               1  \n",
              "810        160891               1  \n",
              "811        160910               1  \n",
              "812        160924               2  \n",
              "813        160934               2  \n",
              "\n",
              "[814 rows x 32 columns]"
            ],
            "text/html": [
              "\n",
              "  <div id=\"df-8bbf1fe9-e275-4e65-ba4f-7f30eb17b8a6\" class=\"colab-df-container\">\n",
              "    <div>\n",
              "<style scoped>\n",
              "    .dataframe tbody tr th:only-of-type {\n",
              "        vertical-align: middle;\n",
              "    }\n",
              "\n",
              "    .dataframe tbody tr th {\n",
              "        vertical-align: top;\n",
              "    }\n",
              "\n",
              "    .dataframe thead th {\n",
              "        text-align: right;\n",
              "    }\n",
              "</style>\n",
              "<table border=\"1\" class=\"dataframe\">\n",
              "  <thead>\n",
              "    <tr style=\"text-align: right;\">\n",
              "      <th></th>\n",
              "      <th>x1_2018</th>\n",
              "      <th>x2_2018</th>\n",
              "      <th>x3_2018</th>\n",
              "      <th>x4_2018</th>\n",
              "      <th>x5_2018</th>\n",
              "      <th>result_2018</th>\n",
              "      <th>x1_2019</th>\n",
              "      <th>x2_2019</th>\n",
              "      <th>x3_2019</th>\n",
              "      <th>x4_2019</th>\n",
              "      <th>...</th>\n",
              "      <th>x5_2021</th>\n",
              "      <th>result_2021</th>\n",
              "      <th>x1_2022</th>\n",
              "      <th>x2_2022</th>\n",
              "      <th>x3_2022</th>\n",
              "      <th>x4_2022</th>\n",
              "      <th>x5_2022</th>\n",
              "      <th>result_2022</th>\n",
              "      <th>index_column</th>\n",
              "      <th>cluster_number</th>\n",
              "    </tr>\n",
              "  </thead>\n",
              "  <tbody>\n",
              "    <tr>\n",
              "      <th>0</th>\n",
              "      <td>0.132792</td>\n",
              "      <td>0.150271</td>\n",
              "      <td>0.123488</td>\n",
              "      <td>0.080846</td>\n",
              "      <td>30.083555</td>\n",
              "      <td>58.853014</td>\n",
              "      <td>0.026604</td>\n",
              "      <td>0.182458</td>\n",
              "      <td>0.021044</td>\n",
              "      <td>0.002824</td>\n",
              "      <td>...</td>\n",
              "      <td>11.000227</td>\n",
              "      <td>55.723564</td>\n",
              "      <td>0.057477</td>\n",
              "      <td>0.140509</td>\n",
              "      <td>0.054547</td>\n",
              "      <td>0.011106</td>\n",
              "      <td>10.813744</td>\n",
              "      <td>52.592245</td>\n",
              "      <td>13333</td>\n",
              "      <td>2</td>\n",
              "    </tr>\n",
              "    <tr>\n",
              "      <th>1</th>\n",
              "      <td>0.047175</td>\n",
              "      <td>0.414882</td>\n",
              "      <td>0.040481</td>\n",
              "      <td>0.000450</td>\n",
              "      <td>6.399180</td>\n",
              "      <td>44.327714</td>\n",
              "      <td>0.036399</td>\n",
              "      <td>0.107456</td>\n",
              "      <td>0.031845</td>\n",
              "      <td>0.016594</td>\n",
              "      <td>...</td>\n",
              "      <td>40.255275</td>\n",
              "      <td>60.721032</td>\n",
              "      <td>0.003015</td>\n",
              "      <td>0.244177</td>\n",
              "      <td>0.005419</td>\n",
              "      <td>0.026538</td>\n",
              "      <td>2.242441</td>\n",
              "      <td>50.022248</td>\n",
              "      <td>13951</td>\n",
              "      <td>2</td>\n",
              "    </tr>\n",
              "    <tr>\n",
              "      <th>2</th>\n",
              "      <td>0.016936</td>\n",
              "      <td>0.219454</td>\n",
              "      <td>0.010930</td>\n",
              "      <td>0.004107</td>\n",
              "      <td>1.935829</td>\n",
              "      <td>46.501760</td>\n",
              "      <td>0.017781</td>\n",
              "      <td>0.058766</td>\n",
              "      <td>0.013083</td>\n",
              "      <td>0.001621</td>\n",
              "      <td>...</td>\n",
              "      <td>16.954390</td>\n",
              "      <td>68.172145</td>\n",
              "      <td>0.017772</td>\n",
              "      <td>0.050712</td>\n",
              "      <td>0.051831</td>\n",
              "      <td>0.203902</td>\n",
              "      <td>11405.000000</td>\n",
              "      <td>72.630547</td>\n",
              "      <td>32840</td>\n",
              "      <td>1</td>\n",
              "    </tr>\n",
              "    <tr>\n",
              "      <th>3</th>\n",
              "      <td>0.030718</td>\n",
              "      <td>0.337814</td>\n",
              "      <td>0.023916</td>\n",
              "      <td>0.016923</td>\n",
              "      <td>17.616438</td>\n",
              "      <td>53.084890</td>\n",
              "      <td>0.136112</td>\n",
              "      <td>0.288295</td>\n",
              "      <td>0.107279</td>\n",
              "      <td>0.047946</td>\n",
              "      <td>...</td>\n",
              "      <td>25.881232</td>\n",
              "      <td>57.767874</td>\n",
              "      <td>0.130456</td>\n",
              "      <td>0.149579</td>\n",
              "      <td>0.105570</td>\n",
              "      <td>0.019036</td>\n",
              "      <td>17.229779</td>\n",
              "      <td>55.000570</td>\n",
              "      <td>37723</td>\n",
              "      <td>2</td>\n",
              "    </tr>\n",
              "    <tr>\n",
              "      <th>4</th>\n",
              "      <td>0.021713</td>\n",
              "      <td>0.327202</td>\n",
              "      <td>0.008214</td>\n",
              "      <td>0.004046</td>\n",
              "      <td>0.605941</td>\n",
              "      <td>43.742576</td>\n",
              "      <td>0.019582</td>\n",
              "      <td>0.306532</td>\n",
              "      <td>0.007622</td>\n",
              "      <td>0.005307</td>\n",
              "      <td>...</td>\n",
              "      <td>5.228365</td>\n",
              "      <td>49.510935</td>\n",
              "      <td>0.042792</td>\n",
              "      <td>0.284123</td>\n",
              "      <td>0.014409</td>\n",
              "      <td>0.016640</td>\n",
              "      <td>0.532235</td>\n",
              "      <td>46.364716</td>\n",
              "      <td>50831</td>\n",
              "      <td>0</td>\n",
              "    </tr>\n",
              "    <tr>\n",
              "      <th>...</th>\n",
              "      <td>...</td>\n",
              "      <td>...</td>\n",
              "      <td>...</td>\n",
              "      <td>...</td>\n",
              "      <td>...</td>\n",
              "      <td>...</td>\n",
              "      <td>...</td>\n",
              "      <td>...</td>\n",
              "      <td>...</td>\n",
              "      <td>...</td>\n",
              "      <td>...</td>\n",
              "      <td>...</td>\n",
              "      <td>...</td>\n",
              "      <td>...</td>\n",
              "      <td>...</td>\n",
              "      <td>...</td>\n",
              "      <td>...</td>\n",
              "      <td>...</td>\n",
              "      <td>...</td>\n",
              "      <td>...</td>\n",
              "      <td>...</td>\n",
              "    </tr>\n",
              "    <tr>\n",
              "      <th>809</th>\n",
              "      <td>0.364145</td>\n",
              "      <td>0.115660</td>\n",
              "      <td>0.284339</td>\n",
              "      <td>0.111694</td>\n",
              "      <td>77.290093</td>\n",
              "      <td>63.749443</td>\n",
              "      <td>0.534413</td>\n",
              "      <td>0.146351</td>\n",
              "      <td>0.425280</td>\n",
              "      <td>0.247475</td>\n",
              "      <td>...</td>\n",
              "      <td>230.262643</td>\n",
              "      <td>66.763095</td>\n",
              "      <td>0.371051</td>\n",
              "      <td>0.269683</td>\n",
              "      <td>0.291467</td>\n",
              "      <td>0.025774</td>\n",
              "      <td>28.578130</td>\n",
              "      <td>58.222622</td>\n",
              "      <td>160799</td>\n",
              "      <td>1</td>\n",
              "    </tr>\n",
              "    <tr>\n",
              "      <th>810</th>\n",
              "      <td>0.828790</td>\n",
              "      <td>0.737330</td>\n",
              "      <td>0.661423</td>\n",
              "      <td>0.224279</td>\n",
              "      <td>5076.734375</td>\n",
              "      <td>79.790352</td>\n",
              "      <td>0.556392</td>\n",
              "      <td>0.384241</td>\n",
              "      <td>0.444208</td>\n",
              "      <td>0.386879</td>\n",
              "      <td>...</td>\n",
              "      <td>319.935331</td>\n",
              "      <td>67.401769</td>\n",
              "      <td>0.301868</td>\n",
              "      <td>0.096536</td>\n",
              "      <td>0.294708</td>\n",
              "      <td>0.471787</td>\n",
              "      <td>99.631076</td>\n",
              "      <td>66.785925</td>\n",
              "      <td>160891</td>\n",
              "      <td>1</td>\n",
              "    </tr>\n",
              "    <tr>\n",
              "      <th>811</th>\n",
              "      <td>0.297018</td>\n",
              "      <td>0.263262</td>\n",
              "      <td>0.231879</td>\n",
              "      <td>0.006651</td>\n",
              "      <td>13.259309</td>\n",
              "      <td>53.439743</td>\n",
              "      <td>0.234432</td>\n",
              "      <td>0.180735</td>\n",
              "      <td>0.178173</td>\n",
              "      <td>0.372994</td>\n",
              "      <td>...</td>\n",
              "      <td>17.302898</td>\n",
              "      <td>57.619734</td>\n",
              "      <td>0.151861</td>\n",
              "      <td>0.105087</td>\n",
              "      <td>0.144167</td>\n",
              "      <td>0.261569</td>\n",
              "      <td>28.288004</td>\n",
              "      <td>61.490676</td>\n",
              "      <td>160910</td>\n",
              "      <td>1</td>\n",
              "    </tr>\n",
              "    <tr>\n",
              "      <th>812</th>\n",
              "      <td>0.144957</td>\n",
              "      <td>0.136189</td>\n",
              "      <td>0.074084</td>\n",
              "      <td>0.017812</td>\n",
              "      <td>1.697385</td>\n",
              "      <td>50.337671</td>\n",
              "      <td>0.097732</td>\n",
              "      <td>0.241705</td>\n",
              "      <td>0.044703</td>\n",
              "      <td>0.003287</td>\n",
              "      <td>...</td>\n",
              "      <td>1.276515</td>\n",
              "      <td>46.318560</td>\n",
              "      <td>0.177035</td>\n",
              "      <td>0.117589</td>\n",
              "      <td>0.103079</td>\n",
              "      <td>0.023426</td>\n",
              "      <td>3.185545</td>\n",
              "      <td>52.542067</td>\n",
              "      <td>160924</td>\n",
              "      <td>2</td>\n",
              "    </tr>\n",
              "    <tr>\n",
              "      <th>813</th>\n",
              "      <td>0.061227</td>\n",
              "      <td>0.665654</td>\n",
              "      <td>0.030894</td>\n",
              "      <td>0.012369</td>\n",
              "      <td>1.782717</td>\n",
              "      <td>47.390817</td>\n",
              "      <td>0.096257</td>\n",
              "      <td>0.636492</td>\n",
              "      <td>0.058447</td>\n",
              "      <td>0.008965</td>\n",
              "      <td>...</td>\n",
              "      <td>1.711057</td>\n",
              "      <td>47.881824</td>\n",
              "      <td>0.163470</td>\n",
              "      <td>0.525750</td>\n",
              "      <td>0.117927</td>\n",
              "      <td>0.011181</td>\n",
              "      <td>7.176773</td>\n",
              "      <td>51.094410</td>\n",
              "      <td>160934</td>\n",
              "      <td>2</td>\n",
              "    </tr>\n",
              "  </tbody>\n",
              "</table>\n",
              "<p>814 rows × 32 columns</p>\n",
              "</div>\n",
              "    <div class=\"colab-df-buttons\">\n",
              "\n",
              "  <div class=\"colab-df-container\">\n",
              "    <button class=\"colab-df-convert\" onclick=\"convertToInteractive('df-8bbf1fe9-e275-4e65-ba4f-7f30eb17b8a6')\"\n",
              "            title=\"Convert this dataframe to an interactive table.\"\n",
              "            style=\"display:none;\">\n",
              "\n",
              "  <svg xmlns=\"http://www.w3.org/2000/svg\" height=\"24px\" viewBox=\"0 -960 960 960\">\n",
              "    <path d=\"M120-120v-720h720v720H120Zm60-500h600v-160H180v160Zm220 220h160v-160H400v160Zm0 220h160v-160H400v160ZM180-400h160v-160H180v160Zm440 0h160v-160H620v160ZM180-180h160v-160H180v160Zm440 0h160v-160H620v160Z\"/>\n",
              "  </svg>\n",
              "    </button>\n",
              "\n",
              "  <style>\n",
              "    .colab-df-container {\n",
              "      display:flex;\n",
              "      gap: 12px;\n",
              "    }\n",
              "\n",
              "    .colab-df-convert {\n",
              "      background-color: #E8F0FE;\n",
              "      border: none;\n",
              "      border-radius: 50%;\n",
              "      cursor: pointer;\n",
              "      display: none;\n",
              "      fill: #1967D2;\n",
              "      height: 32px;\n",
              "      padding: 0 0 0 0;\n",
              "      width: 32px;\n",
              "    }\n",
              "\n",
              "    .colab-df-convert:hover {\n",
              "      background-color: #E2EBFA;\n",
              "      box-shadow: 0px 1px 2px rgba(60, 64, 67, 0.3), 0px 1px 3px 1px rgba(60, 64, 67, 0.15);\n",
              "      fill: #174EA6;\n",
              "    }\n",
              "\n",
              "    .colab-df-buttons div {\n",
              "      margin-bottom: 4px;\n",
              "    }\n",
              "\n",
              "    [theme=dark] .colab-df-convert {\n",
              "      background-color: #3B4455;\n",
              "      fill: #D2E3FC;\n",
              "    }\n",
              "\n",
              "    [theme=dark] .colab-df-convert:hover {\n",
              "      background-color: #434B5C;\n",
              "      box-shadow: 0px 1px 3px 1px rgba(0, 0, 0, 0.15);\n",
              "      filter: drop-shadow(0px 1px 2px rgba(0, 0, 0, 0.3));\n",
              "      fill: #FFFFFF;\n",
              "    }\n",
              "  </style>\n",
              "\n",
              "    <script>\n",
              "      const buttonEl =\n",
              "        document.querySelector('#df-8bbf1fe9-e275-4e65-ba4f-7f30eb17b8a6 button.colab-df-convert');\n",
              "      buttonEl.style.display =\n",
              "        google.colab.kernel.accessAllowed ? 'block' : 'none';\n",
              "\n",
              "      async function convertToInteractive(key) {\n",
              "        const element = document.querySelector('#df-8bbf1fe9-e275-4e65-ba4f-7f30eb17b8a6');\n",
              "        const dataTable =\n",
              "          await google.colab.kernel.invokeFunction('convertToInteractive',\n",
              "                                                    [key], {});\n",
              "        if (!dataTable) return;\n",
              "\n",
              "        const docLinkHtml = 'Like what you see? Visit the ' +\n",
              "          '<a target=\"_blank\" href=https://colab.research.google.com/notebooks/data_table.ipynb>data table notebook</a>'\n",
              "          + ' to learn more about interactive tables.';\n",
              "        element.innerHTML = '';\n",
              "        dataTable['output_type'] = 'display_data';\n",
              "        await google.colab.output.renderOutput(dataTable, element);\n",
              "        const docLink = document.createElement('div');\n",
              "        docLink.innerHTML = docLinkHtml;\n",
              "        element.appendChild(docLink);\n",
              "      }\n",
              "    </script>\n",
              "  </div>\n",
              "\n",
              "\n",
              "<div id=\"df-46547ec5-df08-4cba-913a-0317bbfd7f7a\">\n",
              "  <button class=\"colab-df-quickchart\" onclick=\"quickchart('df-46547ec5-df08-4cba-913a-0317bbfd7f7a')\"\n",
              "            title=\"Suggest charts\"\n",
              "            style=\"display:none;\">\n",
              "\n",
              "<svg xmlns=\"http://www.w3.org/2000/svg\" height=\"24px\"viewBox=\"0 0 24 24\"\n",
              "     width=\"24px\">\n",
              "    <g>\n",
              "        <path d=\"M19 3H5c-1.1 0-2 .9-2 2v14c0 1.1.9 2 2 2h14c1.1 0 2-.9 2-2V5c0-1.1-.9-2-2-2zM9 17H7v-7h2v7zm4 0h-2V7h2v10zm4 0h-2v-4h2v4z\"/>\n",
              "    </g>\n",
              "</svg>\n",
              "  </button>\n",
              "\n",
              "<style>\n",
              "  .colab-df-quickchart {\n",
              "      --bg-color: #E8F0FE;\n",
              "      --fill-color: #1967D2;\n",
              "      --hover-bg-color: #E2EBFA;\n",
              "      --hover-fill-color: #174EA6;\n",
              "      --disabled-fill-color: #AAA;\n",
              "      --disabled-bg-color: #DDD;\n",
              "  }\n",
              "\n",
              "  [theme=dark] .colab-df-quickchart {\n",
              "      --bg-color: #3B4455;\n",
              "      --fill-color: #D2E3FC;\n",
              "      --hover-bg-color: #434B5C;\n",
              "      --hover-fill-color: #FFFFFF;\n",
              "      --disabled-bg-color: #3B4455;\n",
              "      --disabled-fill-color: #666;\n",
              "  }\n",
              "\n",
              "  .colab-df-quickchart {\n",
              "    background-color: var(--bg-color);\n",
              "    border: none;\n",
              "    border-radius: 50%;\n",
              "    cursor: pointer;\n",
              "    display: none;\n",
              "    fill: var(--fill-color);\n",
              "    height: 32px;\n",
              "    padding: 0;\n",
              "    width: 32px;\n",
              "  }\n",
              "\n",
              "  .colab-df-quickchart:hover {\n",
              "    background-color: var(--hover-bg-color);\n",
              "    box-shadow: 0 1px 2px rgba(60, 64, 67, 0.3), 0 1px 3px 1px rgba(60, 64, 67, 0.15);\n",
              "    fill: var(--button-hover-fill-color);\n",
              "  }\n",
              "\n",
              "  .colab-df-quickchart-complete:disabled,\n",
              "  .colab-df-quickchart-complete:disabled:hover {\n",
              "    background-color: var(--disabled-bg-color);\n",
              "    fill: var(--disabled-fill-color);\n",
              "    box-shadow: none;\n",
              "  }\n",
              "\n",
              "  .colab-df-spinner {\n",
              "    border: 2px solid var(--fill-color);\n",
              "    border-color: transparent;\n",
              "    border-bottom-color: var(--fill-color);\n",
              "    animation:\n",
              "      spin 1s steps(1) infinite;\n",
              "  }\n",
              "\n",
              "  @keyframes spin {\n",
              "    0% {\n",
              "      border-color: transparent;\n",
              "      border-bottom-color: var(--fill-color);\n",
              "      border-left-color: var(--fill-color);\n",
              "    }\n",
              "    20% {\n",
              "      border-color: transparent;\n",
              "      border-left-color: var(--fill-color);\n",
              "      border-top-color: var(--fill-color);\n",
              "    }\n",
              "    30% {\n",
              "      border-color: transparent;\n",
              "      border-left-color: var(--fill-color);\n",
              "      border-top-color: var(--fill-color);\n",
              "      border-right-color: var(--fill-color);\n",
              "    }\n",
              "    40% {\n",
              "      border-color: transparent;\n",
              "      border-right-color: var(--fill-color);\n",
              "      border-top-color: var(--fill-color);\n",
              "    }\n",
              "    60% {\n",
              "      border-color: transparent;\n",
              "      border-right-color: var(--fill-color);\n",
              "    }\n",
              "    80% {\n",
              "      border-color: transparent;\n",
              "      border-right-color: var(--fill-color);\n",
              "      border-bottom-color: var(--fill-color);\n",
              "    }\n",
              "    90% {\n",
              "      border-color: transparent;\n",
              "      border-bottom-color: var(--fill-color);\n",
              "    }\n",
              "  }\n",
              "</style>\n",
              "\n",
              "  <script>\n",
              "    async function quickchart(key) {\n",
              "      const quickchartButtonEl =\n",
              "        document.querySelector('#' + key + ' button');\n",
              "      quickchartButtonEl.disabled = true;  // To prevent multiple clicks.\n",
              "      quickchartButtonEl.classList.add('colab-df-spinner');\n",
              "      try {\n",
              "        const charts = await google.colab.kernel.invokeFunction(\n",
              "            'suggestCharts', [key], {});\n",
              "      } catch (error) {\n",
              "        console.error('Error during call to suggestCharts:', error);\n",
              "      }\n",
              "      quickchartButtonEl.classList.remove('colab-df-spinner');\n",
              "      quickchartButtonEl.classList.add('colab-df-quickchart-complete');\n",
              "    }\n",
              "    (() => {\n",
              "      let quickchartButtonEl =\n",
              "        document.querySelector('#df-46547ec5-df08-4cba-913a-0317bbfd7f7a button');\n",
              "      quickchartButtonEl.style.display =\n",
              "        google.colab.kernel.accessAllowed ? 'block' : 'none';\n",
              "    })();\n",
              "  </script>\n",
              "</div>\n",
              "    </div>\n",
              "  </div>\n"
            ],
            "application/vnd.google.colaboratory.intrinsic+json": {
              "type": "dataframe",
              "variable_name": "altman_components"
            }
          },
          "metadata": {},
          "execution_count": 16
        }
      ]
    },
    {
      "cell_type": "code",
      "source": [
        "cluster_counts = altman_components['cluster_number'].value_counts()\n",
        "print(cluster_counts)"
      ],
      "metadata": {
        "colab": {
          "base_uri": "https://localhost:8080/"
        },
        "id": "hgfkTqRzP74G",
        "outputId": "2beb0342-58f9-46a1-dfd8-b405e75060b5"
      },
      "execution_count": null,
      "outputs": [
        {
          "output_type": "stream",
          "name": "stdout",
          "text": [
            "cluster_number\n",
            "2    377\n",
            "0    231\n",
            "1    206\n",
            "Name: count, dtype: int64\n"
          ]
        }
      ]
    },
    {
      "cell_type": "markdown",
      "source": [
        "кластеризуем по кажому году и проследим, происходил ли переход"
      ],
      "metadata": {
        "id": "0rdU3-NXZJH-"
      }
    },
    {
      "cell_type": "code",
      "source": [
        "clustering18 = KMeans(n_clusters=3, random_state=5, n_init=\"auto\").fit(altman_components['result_2018'].values.reshape(-1, 1))\n",
        "\n",
        "\n",
        "clustering19 = KMeans(n_clusters=3, random_state=5, n_init=\"auto\").fit(altman_components['result_2019'].values.reshape(-1, 1))\n",
        "\n",
        "\n",
        "clustering20 = KMeans(n_clusters=3, random_state=5, n_init=\"auto\").fit(altman_components['result_2020'].values.reshape(-1, 1))\n",
        "\n",
        "\n",
        "clustering21 = KMeans(n_clusters=3, random_state=5, n_init=\"auto\").fit(altman_components['result_2021'].values.reshape(-1, 1))\n",
        "\n",
        "\n",
        "clustering22 = KMeans(n_clusters=3, random_state=5, n_init=\"auto\").fit(altman_components['result_2022'].values.reshape(-1, 1))\n"
      ],
      "metadata": {
        "id": "Lq3oniGYZIls"
      },
      "execution_count": null,
      "outputs": []
    },
    {
      "cell_type": "code",
      "source": [
        "clustered_data = pd.DataFrame()\n",
        "\n",
        "cluster_mapping = {0: 0, 1: 1, 2: 2}\n",
        "\n",
        "for year in range(2018, 2023):\n",
        "    clustered_data[f'result_{year}'] = altman_components[f'result_{year}']\n",
        "    clustering = KMeans(n_clusters=3, random_state=5, n_init=\"auto\").fit(altman_components[f'result_{year}'].values.reshape(-1, 1))\n",
        "    centroids = clustering.cluster_centers_.flatten()\n",
        "    sorted_clusters = [x for _, x in sorted(zip(centroids, range(3)))]\n",
        "    cluster_mapping = {0: 0, 1: 1, 2: 2}\n",
        "    clustered_data[f'cluster_number{year}'] = [cluster_mapping[sorted_clusters[cluster]] for cluster in clustering.labels_]\n",
        "\n",
        "clustered_data"
      ],
      "metadata": {
        "colab": {
          "base_uri": "https://localhost:8080/",
          "height": 439
        },
        "id": "UMzn1CnmcJuC",
        "outputId": "9413e34e-74c1-46a2-b2ff-b05a691c5f8e"
      },
      "execution_count": null,
      "outputs": [
        {
          "output_type": "execute_result",
          "data": {
            "text/plain": [
              "     result_2018  cluster_number2018  result_2019  cluster_number2019  \\\n",
              "0      58.853014                   2    47.162188                   1   \n",
              "1      44.327714                   0    54.043415                   1   \n",
              "2      46.501760                   0    48.941816                   1   \n",
              "3      53.084890                   1    60.158125                   2   \n",
              "4      43.742576                   0    44.190868                   0   \n",
              "..           ...                 ...          ...                 ...   \n",
              "809    63.749443                   2    68.025688                   2   \n",
              "810    79.790352                   2    69.581279                   2   \n",
              "811    53.439743                   1    60.808089                   2   \n",
              "812    50.337671                   1    45.434377                   0   \n",
              "813    47.390817                   0    48.334962                   1   \n",
              "\n",
              "     result_2020  cluster_number2020  result_2021  cluster_number2021  \\\n",
              "0      54.650259                   2    55.723564                   2   \n",
              "1      63.994676                   0    60.721032                   0   \n",
              "2      57.880998                   2    68.172145                   0   \n",
              "3      47.371356                   1    57.767874                   2   \n",
              "4      48.401878                   1    49.510935                   2   \n",
              "..           ...                 ...          ...                 ...   \n",
              "809    69.988335                   0    66.763095                   0   \n",
              "810    67.146026                   0    67.401769                   0   \n",
              "811    63.271120                   0    57.619734                   2   \n",
              "812    50.859251                   2    46.318560                   1   \n",
              "813    48.256540                   1    47.881824                   1   \n",
              "\n",
              "     result_2022  cluster_number2022  \n",
              "0      52.592245                   2  \n",
              "1      50.022248                   2  \n",
              "2      72.630547                   0  \n",
              "3      55.000570                   2  \n",
              "4      46.364716                   1  \n",
              "..           ...                 ...  \n",
              "809    58.222622                   0  \n",
              "810    66.785925                   0  \n",
              "811    61.490676                   0  \n",
              "812    52.542067                   2  \n",
              "813    51.094410                   2  \n",
              "\n",
              "[814 rows x 10 columns]"
            ],
            "text/html": [
              "\n",
              "  <div id=\"df-ebeb4ff0-5413-4ef4-88e5-4361d644c5c6\" class=\"colab-df-container\">\n",
              "    <div>\n",
              "<style scoped>\n",
              "    .dataframe tbody tr th:only-of-type {\n",
              "        vertical-align: middle;\n",
              "    }\n",
              "\n",
              "    .dataframe tbody tr th {\n",
              "        vertical-align: top;\n",
              "    }\n",
              "\n",
              "    .dataframe thead th {\n",
              "        text-align: right;\n",
              "    }\n",
              "</style>\n",
              "<table border=\"1\" class=\"dataframe\">\n",
              "  <thead>\n",
              "    <tr style=\"text-align: right;\">\n",
              "      <th></th>\n",
              "      <th>result_2018</th>\n",
              "      <th>cluster_number2018</th>\n",
              "      <th>result_2019</th>\n",
              "      <th>cluster_number2019</th>\n",
              "      <th>result_2020</th>\n",
              "      <th>cluster_number2020</th>\n",
              "      <th>result_2021</th>\n",
              "      <th>cluster_number2021</th>\n",
              "      <th>result_2022</th>\n",
              "      <th>cluster_number2022</th>\n",
              "    </tr>\n",
              "  </thead>\n",
              "  <tbody>\n",
              "    <tr>\n",
              "      <th>0</th>\n",
              "      <td>58.853014</td>\n",
              "      <td>2</td>\n",
              "      <td>47.162188</td>\n",
              "      <td>1</td>\n",
              "      <td>54.650259</td>\n",
              "      <td>2</td>\n",
              "      <td>55.723564</td>\n",
              "      <td>2</td>\n",
              "      <td>52.592245</td>\n",
              "      <td>2</td>\n",
              "    </tr>\n",
              "    <tr>\n",
              "      <th>1</th>\n",
              "      <td>44.327714</td>\n",
              "      <td>0</td>\n",
              "      <td>54.043415</td>\n",
              "      <td>1</td>\n",
              "      <td>63.994676</td>\n",
              "      <td>0</td>\n",
              "      <td>60.721032</td>\n",
              "      <td>0</td>\n",
              "      <td>50.022248</td>\n",
              "      <td>2</td>\n",
              "    </tr>\n",
              "    <tr>\n",
              "      <th>2</th>\n",
              "      <td>46.501760</td>\n",
              "      <td>0</td>\n",
              "      <td>48.941816</td>\n",
              "      <td>1</td>\n",
              "      <td>57.880998</td>\n",
              "      <td>2</td>\n",
              "      <td>68.172145</td>\n",
              "      <td>0</td>\n",
              "      <td>72.630547</td>\n",
              "      <td>0</td>\n",
              "    </tr>\n",
              "    <tr>\n",
              "      <th>3</th>\n",
              "      <td>53.084890</td>\n",
              "      <td>1</td>\n",
              "      <td>60.158125</td>\n",
              "      <td>2</td>\n",
              "      <td>47.371356</td>\n",
              "      <td>1</td>\n",
              "      <td>57.767874</td>\n",
              "      <td>2</td>\n",
              "      <td>55.000570</td>\n",
              "      <td>2</td>\n",
              "    </tr>\n",
              "    <tr>\n",
              "      <th>4</th>\n",
              "      <td>43.742576</td>\n",
              "      <td>0</td>\n",
              "      <td>44.190868</td>\n",
              "      <td>0</td>\n",
              "      <td>48.401878</td>\n",
              "      <td>1</td>\n",
              "      <td>49.510935</td>\n",
              "      <td>2</td>\n",
              "      <td>46.364716</td>\n",
              "      <td>1</td>\n",
              "    </tr>\n",
              "    <tr>\n",
              "      <th>...</th>\n",
              "      <td>...</td>\n",
              "      <td>...</td>\n",
              "      <td>...</td>\n",
              "      <td>...</td>\n",
              "      <td>...</td>\n",
              "      <td>...</td>\n",
              "      <td>...</td>\n",
              "      <td>...</td>\n",
              "      <td>...</td>\n",
              "      <td>...</td>\n",
              "    </tr>\n",
              "    <tr>\n",
              "      <th>809</th>\n",
              "      <td>63.749443</td>\n",
              "      <td>2</td>\n",
              "      <td>68.025688</td>\n",
              "      <td>2</td>\n",
              "      <td>69.988335</td>\n",
              "      <td>0</td>\n",
              "      <td>66.763095</td>\n",
              "      <td>0</td>\n",
              "      <td>58.222622</td>\n",
              "      <td>0</td>\n",
              "    </tr>\n",
              "    <tr>\n",
              "      <th>810</th>\n",
              "      <td>79.790352</td>\n",
              "      <td>2</td>\n",
              "      <td>69.581279</td>\n",
              "      <td>2</td>\n",
              "      <td>67.146026</td>\n",
              "      <td>0</td>\n",
              "      <td>67.401769</td>\n",
              "      <td>0</td>\n",
              "      <td>66.785925</td>\n",
              "      <td>0</td>\n",
              "    </tr>\n",
              "    <tr>\n",
              "      <th>811</th>\n",
              "      <td>53.439743</td>\n",
              "      <td>1</td>\n",
              "      <td>60.808089</td>\n",
              "      <td>2</td>\n",
              "      <td>63.271120</td>\n",
              "      <td>0</td>\n",
              "      <td>57.619734</td>\n",
              "      <td>2</td>\n",
              "      <td>61.490676</td>\n",
              "      <td>0</td>\n",
              "    </tr>\n",
              "    <tr>\n",
              "      <th>812</th>\n",
              "      <td>50.337671</td>\n",
              "      <td>1</td>\n",
              "      <td>45.434377</td>\n",
              "      <td>0</td>\n",
              "      <td>50.859251</td>\n",
              "      <td>2</td>\n",
              "      <td>46.318560</td>\n",
              "      <td>1</td>\n",
              "      <td>52.542067</td>\n",
              "      <td>2</td>\n",
              "    </tr>\n",
              "    <tr>\n",
              "      <th>813</th>\n",
              "      <td>47.390817</td>\n",
              "      <td>0</td>\n",
              "      <td>48.334962</td>\n",
              "      <td>1</td>\n",
              "      <td>48.256540</td>\n",
              "      <td>1</td>\n",
              "      <td>47.881824</td>\n",
              "      <td>1</td>\n",
              "      <td>51.094410</td>\n",
              "      <td>2</td>\n",
              "    </tr>\n",
              "  </tbody>\n",
              "</table>\n",
              "<p>814 rows × 10 columns</p>\n",
              "</div>\n",
              "    <div class=\"colab-df-buttons\">\n",
              "\n",
              "  <div class=\"colab-df-container\">\n",
              "    <button class=\"colab-df-convert\" onclick=\"convertToInteractive('df-ebeb4ff0-5413-4ef4-88e5-4361d644c5c6')\"\n",
              "            title=\"Convert this dataframe to an interactive table.\"\n",
              "            style=\"display:none;\">\n",
              "\n",
              "  <svg xmlns=\"http://www.w3.org/2000/svg\" height=\"24px\" viewBox=\"0 -960 960 960\">\n",
              "    <path d=\"M120-120v-720h720v720H120Zm60-500h600v-160H180v160Zm220 220h160v-160H400v160Zm0 220h160v-160H400v160ZM180-400h160v-160H180v160Zm440 0h160v-160H620v160ZM180-180h160v-160H180v160Zm440 0h160v-160H620v160Z\"/>\n",
              "  </svg>\n",
              "    </button>\n",
              "\n",
              "  <style>\n",
              "    .colab-df-container {\n",
              "      display:flex;\n",
              "      gap: 12px;\n",
              "    }\n",
              "\n",
              "    .colab-df-convert {\n",
              "      background-color: #E8F0FE;\n",
              "      border: none;\n",
              "      border-radius: 50%;\n",
              "      cursor: pointer;\n",
              "      display: none;\n",
              "      fill: #1967D2;\n",
              "      height: 32px;\n",
              "      padding: 0 0 0 0;\n",
              "      width: 32px;\n",
              "    }\n",
              "\n",
              "    .colab-df-convert:hover {\n",
              "      background-color: #E2EBFA;\n",
              "      box-shadow: 0px 1px 2px rgba(60, 64, 67, 0.3), 0px 1px 3px 1px rgba(60, 64, 67, 0.15);\n",
              "      fill: #174EA6;\n",
              "    }\n",
              "\n",
              "    .colab-df-buttons div {\n",
              "      margin-bottom: 4px;\n",
              "    }\n",
              "\n",
              "    [theme=dark] .colab-df-convert {\n",
              "      background-color: #3B4455;\n",
              "      fill: #D2E3FC;\n",
              "    }\n",
              "\n",
              "    [theme=dark] .colab-df-convert:hover {\n",
              "      background-color: #434B5C;\n",
              "      box-shadow: 0px 1px 3px 1px rgba(0, 0, 0, 0.15);\n",
              "      filter: drop-shadow(0px 1px 2px rgba(0, 0, 0, 0.3));\n",
              "      fill: #FFFFFF;\n",
              "    }\n",
              "  </style>\n",
              "\n",
              "    <script>\n",
              "      const buttonEl =\n",
              "        document.querySelector('#df-ebeb4ff0-5413-4ef4-88e5-4361d644c5c6 button.colab-df-convert');\n",
              "      buttonEl.style.display =\n",
              "        google.colab.kernel.accessAllowed ? 'block' : 'none';\n",
              "\n",
              "      async function convertToInteractive(key) {\n",
              "        const element = document.querySelector('#df-ebeb4ff0-5413-4ef4-88e5-4361d644c5c6');\n",
              "        const dataTable =\n",
              "          await google.colab.kernel.invokeFunction('convertToInteractive',\n",
              "                                                    [key], {});\n",
              "        if (!dataTable) return;\n",
              "\n",
              "        const docLinkHtml = 'Like what you see? Visit the ' +\n",
              "          '<a target=\"_blank\" href=https://colab.research.google.com/notebooks/data_table.ipynb>data table notebook</a>'\n",
              "          + ' to learn more about interactive tables.';\n",
              "        element.innerHTML = '';\n",
              "        dataTable['output_type'] = 'display_data';\n",
              "        await google.colab.output.renderOutput(dataTable, element);\n",
              "        const docLink = document.createElement('div');\n",
              "        docLink.innerHTML = docLinkHtml;\n",
              "        element.appendChild(docLink);\n",
              "      }\n",
              "    </script>\n",
              "  </div>\n",
              "\n",
              "\n",
              "<div id=\"df-eb29c044-20f9-4062-b462-4a9d976c634a\">\n",
              "  <button class=\"colab-df-quickchart\" onclick=\"quickchart('df-eb29c044-20f9-4062-b462-4a9d976c634a')\"\n",
              "            title=\"Suggest charts\"\n",
              "            style=\"display:none;\">\n",
              "\n",
              "<svg xmlns=\"http://www.w3.org/2000/svg\" height=\"24px\"viewBox=\"0 0 24 24\"\n",
              "     width=\"24px\">\n",
              "    <g>\n",
              "        <path d=\"M19 3H5c-1.1 0-2 .9-2 2v14c0 1.1.9 2 2 2h14c1.1 0 2-.9 2-2V5c0-1.1-.9-2-2-2zM9 17H7v-7h2v7zm4 0h-2V7h2v10zm4 0h-2v-4h2v4z\"/>\n",
              "    </g>\n",
              "</svg>\n",
              "  </button>\n",
              "\n",
              "<style>\n",
              "  .colab-df-quickchart {\n",
              "      --bg-color: #E8F0FE;\n",
              "      --fill-color: #1967D2;\n",
              "      --hover-bg-color: #E2EBFA;\n",
              "      --hover-fill-color: #174EA6;\n",
              "      --disabled-fill-color: #AAA;\n",
              "      --disabled-bg-color: #DDD;\n",
              "  }\n",
              "\n",
              "  [theme=dark] .colab-df-quickchart {\n",
              "      --bg-color: #3B4455;\n",
              "      --fill-color: #D2E3FC;\n",
              "      --hover-bg-color: #434B5C;\n",
              "      --hover-fill-color: #FFFFFF;\n",
              "      --disabled-bg-color: #3B4455;\n",
              "      --disabled-fill-color: #666;\n",
              "  }\n",
              "\n",
              "  .colab-df-quickchart {\n",
              "    background-color: var(--bg-color);\n",
              "    border: none;\n",
              "    border-radius: 50%;\n",
              "    cursor: pointer;\n",
              "    display: none;\n",
              "    fill: var(--fill-color);\n",
              "    height: 32px;\n",
              "    padding: 0;\n",
              "    width: 32px;\n",
              "  }\n",
              "\n",
              "  .colab-df-quickchart:hover {\n",
              "    background-color: var(--hover-bg-color);\n",
              "    box-shadow: 0 1px 2px rgba(60, 64, 67, 0.3), 0 1px 3px 1px rgba(60, 64, 67, 0.15);\n",
              "    fill: var(--button-hover-fill-color);\n",
              "  }\n",
              "\n",
              "  .colab-df-quickchart-complete:disabled,\n",
              "  .colab-df-quickchart-complete:disabled:hover {\n",
              "    background-color: var(--disabled-bg-color);\n",
              "    fill: var(--disabled-fill-color);\n",
              "    box-shadow: none;\n",
              "  }\n",
              "\n",
              "  .colab-df-spinner {\n",
              "    border: 2px solid var(--fill-color);\n",
              "    border-color: transparent;\n",
              "    border-bottom-color: var(--fill-color);\n",
              "    animation:\n",
              "      spin 1s steps(1) infinite;\n",
              "  }\n",
              "\n",
              "  @keyframes spin {\n",
              "    0% {\n",
              "      border-color: transparent;\n",
              "      border-bottom-color: var(--fill-color);\n",
              "      border-left-color: var(--fill-color);\n",
              "    }\n",
              "    20% {\n",
              "      border-color: transparent;\n",
              "      border-left-color: var(--fill-color);\n",
              "      border-top-color: var(--fill-color);\n",
              "    }\n",
              "    30% {\n",
              "      border-color: transparent;\n",
              "      border-left-color: var(--fill-color);\n",
              "      border-top-color: var(--fill-color);\n",
              "      border-right-color: var(--fill-color);\n",
              "    }\n",
              "    40% {\n",
              "      border-color: transparent;\n",
              "      border-right-color: var(--fill-color);\n",
              "      border-top-color: var(--fill-color);\n",
              "    }\n",
              "    60% {\n",
              "      border-color: transparent;\n",
              "      border-right-color: var(--fill-color);\n",
              "    }\n",
              "    80% {\n",
              "      border-color: transparent;\n",
              "      border-right-color: var(--fill-color);\n",
              "      border-bottom-color: var(--fill-color);\n",
              "    }\n",
              "    90% {\n",
              "      border-color: transparent;\n",
              "      border-bottom-color: var(--fill-color);\n",
              "    }\n",
              "  }\n",
              "</style>\n",
              "\n",
              "  <script>\n",
              "    async function quickchart(key) {\n",
              "      const quickchartButtonEl =\n",
              "        document.querySelector('#' + key + ' button');\n",
              "      quickchartButtonEl.disabled = true;  // To prevent multiple clicks.\n",
              "      quickchartButtonEl.classList.add('colab-df-spinner');\n",
              "      try {\n",
              "        const charts = await google.colab.kernel.invokeFunction(\n",
              "            'suggestCharts', [key], {});\n",
              "      } catch (error) {\n",
              "        console.error('Error during call to suggestCharts:', error);\n",
              "      }\n",
              "      quickchartButtonEl.classList.remove('colab-df-spinner');\n",
              "      quickchartButtonEl.classList.add('colab-df-quickchart-complete');\n",
              "    }\n",
              "    (() => {\n",
              "      let quickchartButtonEl =\n",
              "        document.querySelector('#df-eb29c044-20f9-4062-b462-4a9d976c634a button');\n",
              "      quickchartButtonEl.style.display =\n",
              "        google.colab.kernel.accessAllowed ? 'block' : 'none';\n",
              "    })();\n",
              "  </script>\n",
              "</div>\n",
              "    </div>\n",
              "  </div>\n"
            ],
            "application/vnd.google.colaboratory.intrinsic+json": {
              "type": "dataframe",
              "variable_name": "clustered_data",
              "summary": "{\n  \"name\": \"clustered_data\",\n  \"rows\": 814,\n  \"fields\": [\n    {\n      \"column\": \"result_2018\",\n      \"properties\": {\n        \"dtype\": \"number\",\n        \"std\": 7.341422536615529,\n        \"min\": 29.42396147385632,\n        \"max\": 79.79035194427105,\n        \"num_unique_values\": 814,\n        \"samples\": [\n          55.2978307387668,\n          47.12860022615433,\n          43.54825265441559\n        ],\n        \"semantic_type\": \"\",\n        \"description\": \"\"\n      }\n    },\n    {\n      \"column\": \"cluster_number2018\",\n      \"properties\": {\n        \"dtype\": \"number\",\n        \"std\": 0,\n        \"min\": 0,\n        \"max\": 2,\n        \"num_unique_values\": 3,\n        \"samples\": [\n          2,\n          0,\n          1\n        ],\n        \"semantic_type\": \"\",\n        \"description\": \"\"\n      }\n    },\n    {\n      \"column\": \"result_2019\",\n      \"properties\": {\n        \"dtype\": \"number\",\n        \"std\": 7.2774880367650985,\n        \"min\": 27.06398652578044,\n        \"max\": 77.45531270078993,\n        \"num_unique_values\": 814,\n        \"samples\": [\n          57.70124756287183,\n          42.90471151826481,\n          41.19125327253264\n        ],\n        \"semantic_type\": \"\",\n        \"description\": \"\"\n      }\n    },\n    {\n      \"column\": \"cluster_number2019\",\n      \"properties\": {\n        \"dtype\": \"number\",\n        \"std\": 0,\n        \"min\": 0,\n        \"max\": 2,\n        \"num_unique_values\": 3,\n        \"samples\": [\n          1,\n          2,\n          0\n        ],\n        \"semantic_type\": \"\",\n        \"description\": \"\"\n      }\n    },\n    {\n      \"column\": \"result_2020\",\n      \"properties\": {\n        \"dtype\": \"number\",\n        \"std\": 7.293205731649723,\n        \"min\": 32.74504579464564,\n        \"max\": 76.25366145563287,\n        \"num_unique_values\": 814,\n        \"samples\": [\n          54.22107211955963,\n          48.36466827988656,\n          46.09205082412186\n        ],\n        \"semantic_type\": \"\",\n        \"description\": \"\"\n      }\n    },\n    {\n      \"column\": \"cluster_number2020\",\n      \"properties\": {\n        \"dtype\": \"number\",\n        \"std\": 0,\n        \"min\": 0,\n        \"max\": 2,\n        \"num_unique_values\": 3,\n        \"samples\": [\n          2,\n          0,\n          1\n        ],\n        \"semantic_type\": \"\",\n        \"description\": \"\"\n      }\n    },\n    {\n      \"column\": \"result_2021\",\n      \"properties\": {\n        \"dtype\": \"number\",\n        \"std\": 7.455720079503438,\n        \"min\": 32.60009302881214,\n        \"max\": 82.58312465384653,\n        \"num_unique_values\": 814,\n        \"samples\": [\n          53.47142099262704,\n          46.75699701542371,\n          44.56195905459519\n        ],\n        \"semantic_type\": \"\",\n        \"description\": \"\"\n      }\n    },\n    {\n      \"column\": \"cluster_number2021\",\n      \"properties\": {\n        \"dtype\": \"number\",\n        \"std\": 0,\n        \"min\": 0,\n        \"max\": 2,\n        \"num_unique_values\": 3,\n        \"samples\": [\n          2,\n          0,\n          1\n        ],\n        \"semantic_type\": \"\",\n        \"description\": \"\"\n      }\n    },\n    {\n      \"column\": \"result_2022\",\n      \"properties\": {\n        \"dtype\": \"number\",\n        \"std\": 7.5830689414531545,\n        \"min\": 22.50798794572596,\n        \"max\": 80.30313420443343,\n        \"num_unique_values\": 814,\n        \"samples\": [\n          50.70415288672692,\n          49.50517531756524,\n          48.75885921855458\n        ],\n        \"semantic_type\": \"\",\n        \"description\": \"\"\n      }\n    },\n    {\n      \"column\": \"cluster_number2022\",\n      \"properties\": {\n        \"dtype\": \"number\",\n        \"std\": 0,\n        \"min\": 0,\n        \"max\": 2,\n        \"num_unique_values\": 3,\n        \"samples\": [\n          2,\n          0,\n          1\n        ],\n        \"semantic_type\": \"\",\n        \"description\": \"\"\n      }\n    }\n  ]\n}"
            }
          },
          "metadata": {},
          "execution_count": 19
        }
      ]
    },
    {
      "cell_type": "markdown",
      "source": [
        "матрица миграций 18-19"
      ],
      "metadata": {
        "id": "A04kiocVk2eg"
      }
    },
    {
      "cell_type": "code",
      "source": [
        "migration_matrix18 = np.zeros((3, 3))\n",
        "\n",
        "for year in range(2018, 2019):\n",
        "    current_clusters = clustered_data[f'cluster_number{year}']\n",
        "    next_clusters = clustered_data[f'cluster_number{year+1}']\n",
        "\n",
        "    for i in range(len(current_clusters)):\n",
        "        migration_matrix18[current_clusters[i], next_clusters[i]] += 1\n",
        "\n",
        "\n",
        "print(\"Migration Matrix 2018:\")\n",
        "migration_matrix18"
      ],
      "metadata": {
        "colab": {
          "base_uri": "https://localhost:8080/"
        },
        "id": "byeWMq2NkkJN",
        "outputId": "988a7cf0-b645-4344-c70d-2e6c61a7ed02"
      },
      "execution_count": null,
      "outputs": [
        {
          "output_type": "stream",
          "name": "stdout",
          "text": [
            "Migration Matrix 2018:\n"
          ]
        },
        {
          "output_type": "execute_result",
          "data": {
            "text/plain": [
              "array([[170.,  83.,   1.],\n",
              "       [ 64., 250.,  74.],\n",
              "       [  3.,  51., 118.]])"
            ]
          },
          "metadata": {},
          "execution_count": 20
        }
      ]
    },
    {
      "cell_type": "code",
      "source": [
        "migration_matrix19 = np.zeros((3, 3))\n",
        "\n",
        "for year in range(2019, 2020):\n",
        "    current_clusters = clustered_data[f'cluster_number{year}']\n",
        "    next_clusters = clustered_data[f'cluster_number{year+1}']\n",
        "\n",
        "    for i in range(len(current_clusters)):\n",
        "        migration_matrix19[current_clusters[i], next_clusters[i]] += 1\n",
        "\n",
        "\n",
        "print(\"Migration Matrix 2019:\")\n",
        "migration_matrix19"
      ],
      "metadata": {
        "colab": {
          "base_uri": "https://localhost:8080/"
        },
        "id": "L47402lTk8Ey",
        "outputId": "cbfb3ba4-c0ba-40f0-86c4-a7c0e8a2a441"
      },
      "execution_count": null,
      "outputs": [
        {
          "output_type": "stream",
          "name": "stdout",
          "text": [
            "Migration Matrix 2019:\n"
          ]
        },
        {
          "output_type": "execute_result",
          "data": {
            "text/plain": [
              "array([[  7., 158.,  72.],\n",
              "       [ 49.,  94., 241.],\n",
              "       [123.,  10.,  60.]])"
            ]
          },
          "metadata": {},
          "execution_count": 21
        }
      ]
    },
    {
      "cell_type": "code",
      "source": [
        "migration_matrix20 = np.zeros((3, 3))\n",
        "\n",
        "for year in range(2020, 2021):\n",
        "    current_clusters = clustered_data[f'cluster_number{year}']\n",
        "    next_clusters = clustered_data[f'cluster_number{year+1}']\n",
        "\n",
        "    for i in range(len(current_clusters)):\n",
        "        migration_matrix20[current_clusters[i], next_clusters[i]] += 1\n",
        "\n",
        "\n",
        "print(\"Migration Matrix 2020:\")\n",
        "migration_matrix20"
      ],
      "metadata": {
        "colab": {
          "base_uri": "https://localhost:8080/"
        },
        "id": "fLZJGl7ZlH-U",
        "outputId": "5e8409b9-66c0-4587-8b12-20642c835c76"
      },
      "execution_count": null,
      "outputs": [
        {
          "output_type": "stream",
          "name": "stdout",
          "text": [
            "Migration Matrix 2020:\n"
          ]
        },
        {
          "output_type": "execute_result",
          "data": {
            "text/plain": [
              "array([[130.,   4.,  45.],\n",
              "       [  5., 157., 100.],\n",
              "       [ 63.,  62., 248.]])"
            ]
          },
          "metadata": {},
          "execution_count": 22
        }
      ]
    },
    {
      "cell_type": "code",
      "source": [
        "migration_matrix21 = np.zeros((3, 3))\n",
        "\n",
        "for year in range(2021, 2022):\n",
        "    current_clusters = clustered_data[f'cluster_number{year}']\n",
        "    next_clusters = clustered_data[f'cluster_number{year+1}']\n",
        "\n",
        "    for i in range(len(current_clusters)):\n",
        "        migration_matrix21[current_clusters[i], next_clusters[i]] += 1\n",
        "\n",
        "\n",
        "print(\"Migration Matrix 2022:\")\n",
        "migration_matrix21"
      ],
      "metadata": {
        "colab": {
          "base_uri": "https://localhost:8080/"
        },
        "id": "RZukxTyPlOi0",
        "outputId": "b9e0af6e-b9a0-470b-9e10-3a6abff34e28"
      },
      "execution_count": null,
      "outputs": [
        {
          "output_type": "stream",
          "name": "stdout",
          "text": [
            "Migration Matrix 2022:\n"
          ]
        },
        {
          "output_type": "execute_result",
          "data": {
            "text/plain": [
              "array([[133.,  11.,  54.],\n",
              "       [  4., 135.,  84.],\n",
              "       [ 71.,  62., 260.]])"
            ]
          },
          "metadata": {},
          "execution_count": 23
        }
      ]
    },
    {
      "cell_type": "code",
      "source": [
        "def markov_process(transition_matrix, current_state, num_steps):\n",
        "    states = [current_state]\n",
        "\n",
        "    for _ in range(num_steps):\n",
        "        next_state = np.random.choice(range(len(transition_matrix)), p=transition_matrix[current_state])\n",
        "        states.append(next_state)\n",
        "        current_state = next_state\n",
        "\n",
        "    return states"
      ],
      "metadata": {
        "id": "T1OHnK6JEEkv"
      },
      "execution_count": null,
      "outputs": []
    },
    {
      "cell_type": "markdown",
      "source": [
        "# Альтман по годам"
      ],
      "metadata": {
        "id": "EoqAJnv5P1ur"
      }
    },
    {
      "cell_type": "code",
      "source": [
        "cluster_centers_years = [{}, {}, {}, {}, {}]\n",
        "cluster_quantity_years = [{}, {}, {}, {}, {}]"
      ],
      "metadata": {
        "id": "56fVSUOURRR8"
      },
      "execution_count": null,
      "outputs": []
    },
    {
      "cell_type": "code",
      "execution_count": null,
      "metadata": {
        "colab": {
          "base_uri": "https://localhost:8080/"
        },
        "id": "enoUVFY-YDaA",
        "outputId": "a14e040b-98e1-4c3c-8c02-f075c0ca0ee4"
      },
      "outputs": [
        {
          "output_type": "execute_result",
          "data": {
            "text/plain": [
              "array([[52.61028917],\n",
              "       [43.24638851],\n",
              "       [63.02421565]])"
            ]
          },
          "metadata": {},
          "execution_count": 19
        }
      ],
      "source": [
        "clustering_18 = KMeans(n_clusters=3, random_state=5, n_init=\"auto\").fit(data_2018['result_2018'].values.reshape(-1, 1))\n",
        "clustering_18.cluster_centers_"
      ]
    },
    {
      "cell_type": "code",
      "source": [
        "for i in range(3):\n",
        "  cluster_centers_years[0][i] = clustering_18.cluster_centers_[i][0]\n",
        "\n",
        "\n",
        "for i in range(3):\n",
        "  cluster_quantity_years[0][i] = cluster_counts_18[i]\n",
        "\n",
        "cluster_centers_years"
      ],
      "metadata": {
        "colab": {
          "base_uri": "https://localhost:8080/"
        },
        "id": "0K-1hf4X8FGw",
        "outputId": "22b0d0a0-6005-4b40-f980-6521aea90f8f"
      },
      "execution_count": null,
      "outputs": [
        {
          "output_type": "execute_result",
          "data": {
            "text/plain": [
              "[{0: 52.61028916606945, 1: 43.24638851233248, 2: 63.02421564906396},\n",
              " {0: 61.80979082111805, 1: 42.36245115455632, 2: 51.72133307217854},\n",
              " {0: 64.0704531025186, 1: 44.82621156054592, 2: 54.23672880058632},\n",
              " {0: 63.44707015439064, 1: 44.32535965082242, 2: 53.615305821090054},\n",
              " {0: 53.48712375313497, 1: 63.43844631983629, 2: 44.02972052874566}]"
            ]
          },
          "metadata": {},
          "execution_count": 48
        }
      ]
    },
    {
      "cell_type": "code",
      "source": [
        "data_2018['cluster_number'] = clustering_18.labels_\n",
        "cluster_counts_18 = data_2018['cluster_number'].value_counts()\n",
        "cluster_counts_18"
      ],
      "metadata": {
        "colab": {
          "base_uri": "https://localhost:8080/"
        },
        "id": "6Prv71iOQQu6",
        "outputId": "92c1aacf-e6ca-4a9f-b22e-55e69fee6312"
      },
      "execution_count": null,
      "outputs": [
        {
          "output_type": "execute_result",
          "data": {
            "text/plain": [
              "cluster_number\n",
              "0    804\n",
              "1    541\n",
              "2    351\n",
              "Name: count, dtype: int64"
            ]
          },
          "metadata": {},
          "execution_count": 49
        }
      ]
    },
    {
      "cell_type": "code",
      "source": [
        "clustering_19 = KMeans(n_clusters=3, random_state=5, n_init=\"auto\").fit(data_2019['result_2019'].values.reshape(-1, 1))\n",
        "clustering_19.cluster_centers_"
      ],
      "metadata": {
        "colab": {
          "base_uri": "https://localhost:8080/"
        },
        "id": "q6TQxi1tc8ZZ",
        "outputId": "3efb8861-fc37-4dd6-aebc-d70de6fe9406"
      },
      "execution_count": null,
      "outputs": [
        {
          "output_type": "execute_result",
          "data": {
            "text/plain": [
              "array([[61.80979082],\n",
              "       [42.36245115],\n",
              "       [51.72133307]])"
            ]
          },
          "metadata": {},
          "execution_count": 50
        }
      ]
    },
    {
      "cell_type": "code",
      "source": [
        "for i in range(3):\n",
        "  cluster_centers_years[1][i] = clustering_19.cluster_centers_[i][0]\n",
        "\n",
        "\n",
        "for i in range(3):\n",
        "  cluster_quantity_years[1][i] = cluster_counts_19[i]\n",
        "\n",
        "cluster_centers_years\n",
        "cluster_quantity_years"
      ],
      "metadata": {
        "colab": {
          "base_uri": "https://localhost:8080/"
        },
        "id": "eNJrN2ae8esw",
        "outputId": "74ac8633-2c28-4d2e-8b6a-d6d46ca92fad"
      },
      "execution_count": null,
      "outputs": [
        {
          "output_type": "execute_result",
          "data": {
            "text/plain": [
              "[{0: 804, 1: 541, 2: 351}, {0: 496, 1: 515, 2: 858}, {}, {}, {}]"
            ]
          },
          "metadata": {},
          "execution_count": 51
        }
      ]
    },
    {
      "cell_type": "code",
      "source": [
        "data_2019['cluster_number'] = clustering_19.labels_\n",
        "cluster_counts_19 = data_2019['cluster_number'].value_counts()\n",
        "cluster_counts_19"
      ],
      "metadata": {
        "colab": {
          "base_uri": "https://localhost:8080/"
        },
        "id": "BLJQZPvSQsPN",
        "outputId": "f0209cfd-6c7e-449a-a139-38cd382e6b08"
      },
      "execution_count": null,
      "outputs": [
        {
          "output_type": "execute_result",
          "data": {
            "text/plain": [
              "cluster_number\n",
              "2    858\n",
              "1    515\n",
              "0    496\n",
              "Name: count, dtype: int64"
            ]
          },
          "metadata": {},
          "execution_count": 52
        }
      ]
    },
    {
      "cell_type": "code",
      "source": [
        "clustering_20 = KMeans(n_clusters=3, random_state=5, n_init=\"auto\").fit(data_2020['result_2020'].values.reshape(-1, 1))\n",
        "clustering_20.cluster_centers_"
      ],
      "metadata": {
        "colab": {
          "base_uri": "https://localhost:8080/"
        },
        "id": "TxQHhonjc_m2",
        "outputId": "b90a8f36-11ae-4225-aa54-62eb549e23d9"
      },
      "execution_count": null,
      "outputs": [
        {
          "output_type": "execute_result",
          "data": {
            "text/plain": [
              "array([[64.0704531 ],\n",
              "       [44.82621156],\n",
              "       [54.2367288 ]])"
            ]
          },
          "metadata": {},
          "execution_count": 53
        }
      ]
    },
    {
      "cell_type": "code",
      "source": [
        "data_2020['cluster_number'] = clustering_20.labels_\n",
        "cluster_counts_20 = data_2020['cluster_number'].value_counts()\n",
        "cluster_counts_20"
      ],
      "metadata": {
        "colab": {
          "base_uri": "https://localhost:8080/"
        },
        "id": "Ioamt9MnQ0EB",
        "outputId": "8b8c02db-c1e8-460d-8485-638467163b96"
      },
      "execution_count": null,
      "outputs": [
        {
          "output_type": "execute_result",
          "data": {
            "text/plain": [
              "cluster_number\n",
              "2    788\n",
              "1    639\n",
              "0    418\n",
              "Name: count, dtype: int64"
            ]
          },
          "metadata": {},
          "execution_count": 24
        }
      ]
    },
    {
      "cell_type": "code",
      "source": [
        "for i in range(3):\n",
        "  cluster_centers_years[2][i] = clustering_20.cluster_centers_[i][0]\n",
        "\n",
        "\n",
        "for i in range(3):\n",
        "  cluster_quantity_years[2][i] = cluster_counts_20[i]\n",
        "\n",
        "cluster_centers_years"
      ],
      "metadata": {
        "colab": {
          "base_uri": "https://localhost:8080/"
        },
        "id": "j57ZUT17_KsU",
        "outputId": "43bf806c-0ab0-4370-ee03-cd417d553313"
      },
      "execution_count": null,
      "outputs": [
        {
          "output_type": "execute_result",
          "data": {
            "text/plain": [
              "[{0: 52.61028916606945, 1: 43.24638851233248, 2: 63.02421564906396},\n",
              " {0: 61.80979082111805, 1: 42.36245115455632, 2: 51.72133307217854},\n",
              " {0: 64.0704531025186, 1: 44.82621156054592, 2: 54.23672880058632},\n",
              " {0: 63.44707015439064, 1: 44.32535965082242, 2: 53.615305821090054},\n",
              " {0: 53.48712375313497, 1: 63.43844631983629, 2: 44.02972052874566}]"
            ]
          },
          "metadata": {},
          "execution_count": 55
        }
      ]
    },
    {
      "cell_type": "code",
      "source": [
        "clustering_21 = KMeans(n_clusters=3, random_state=5, n_init=\"auto\").fit(data_2021['result_2021'].values.reshape(-1, 1))\n",
        "clustering_21.cluster_centers_"
      ],
      "metadata": {
        "colab": {
          "base_uri": "https://localhost:8080/"
        },
        "id": "41swJvJidUq2",
        "outputId": "6d0e161e-eaaa-4d39-f5c9-a96d24b13dbf"
      },
      "execution_count": null,
      "outputs": [
        {
          "output_type": "execute_result",
          "data": {
            "text/plain": [
              "array([[63.44707015],\n",
              "       [44.32535965],\n",
              "       [53.61530582]])"
            ]
          },
          "metadata": {},
          "execution_count": 25
        }
      ]
    },
    {
      "cell_type": "code",
      "source": [
        "data_2021['cluster_number'] = clustering_21.labels_\n",
        "cluster_counts_21 = data_2021['cluster_number'].value_counts()\n",
        "cluster_counts_21"
      ],
      "metadata": {
        "colab": {
          "base_uri": "https://localhost:8080/"
        },
        "id": "dhuRwXO0Q_bu",
        "outputId": "44d61e73-c91f-46cd-8f2f-8679052d726d"
      },
      "execution_count": null,
      "outputs": [
        {
          "output_type": "execute_result",
          "data": {
            "text/plain": [
              "cluster_number\n",
              "2    898\n",
              "1    546\n",
              "0    505\n",
              "Name: count, dtype: int64"
            ]
          },
          "metadata": {},
          "execution_count": 26
        }
      ]
    },
    {
      "cell_type": "code",
      "source": [
        "for i in range(3):\n",
        "  cluster_centers_years[3][i] = clustering_21.cluster_centers_[i][0]\n",
        "\n",
        "\n",
        "for i in range(3):\n",
        "  cluster_quantity_years[3][i] = cluster_counts_21[i]\n",
        "\n",
        "\n",
        "cluster_centers_years"
      ],
      "metadata": {
        "colab": {
          "base_uri": "https://localhost:8080/"
        },
        "id": "kUCvWUQd8os7",
        "outputId": "33ccfca5-f4c1-4a6e-fea8-25cc1837d187"
      },
      "execution_count": null,
      "outputs": [
        {
          "output_type": "execute_result",
          "data": {
            "text/plain": [
              "[{0: 52.61028916606945, 1: 43.24638851233248, 2: 63.02421564906396},\n",
              " {0: 61.80979082111805, 1: 42.36245115455632, 2: 51.72133307217854},\n",
              " {0: 64.0704531025186, 1: 44.82621156054592, 2: 54.23672880058632},\n",
              " {0: 63.44707015439064, 1: 44.32535965082242, 2: 53.615305821090054},\n",
              " {0: 53.48712375313497, 1: 63.43844631983629, 2: 44.02972052874566}]"
            ]
          },
          "metadata": {},
          "execution_count": 56
        }
      ]
    },
    {
      "cell_type": "code",
      "source": [
        "clustering_22 = KMeans(n_clusters=3, random_state=5, n_init=\"auto\").fit(data_2022['result_2022'].values.reshape(-1, 1))\n",
        "clustering_22.cluster_centers_"
      ],
      "metadata": {
        "colab": {
          "base_uri": "https://localhost:8080/"
        },
        "id": "on234WCkdWkY",
        "outputId": "1e03ce1d-4a25-49d2-85ab-95ab967cca95"
      },
      "execution_count": null,
      "outputs": [
        {
          "output_type": "execute_result",
          "data": {
            "text/plain": [
              "array([[53.48712375],\n",
              "       [63.43844632],\n",
              "       [44.02972053]])"
            ]
          },
          "metadata": {},
          "execution_count": 57
        }
      ]
    },
    {
      "cell_type": "code",
      "source": [
        "data_2022['cluster_number'] = clustering_22.labels_\n",
        "cluster_counts_22 = data_2022['cluster_number'].value_counts()\n",
        "cluster_counts_22"
      ],
      "metadata": {
        "colab": {
          "base_uri": "https://localhost:8080/"
        },
        "id": "H-pjCNw7REpL",
        "outputId": "3e8f8f49-3e47-49f4-9708-5135886349b3"
      },
      "execution_count": null,
      "outputs": [
        {
          "output_type": "execute_result",
          "data": {
            "text/plain": [
              "cluster_number\n",
              "0    1080\n",
              "2     601\n",
              "1     595\n",
              "Name: count, dtype: int64"
            ]
          },
          "metadata": {},
          "execution_count": 28
        }
      ]
    },
    {
      "cell_type": "code",
      "source": [
        "for i in range(3):\n",
        "  cluster_centers_years[4][i] = clustering_22.cluster_centers_[i][0]\n",
        "\n",
        "\n",
        "for i in range(3):\n",
        "  cluster_quantity_years[4][i] = cluster_counts_22[i]\n",
        "\n",
        "\n",
        "cluster_centers_years\n",
        "cluster_quantity_years"
      ],
      "metadata": {
        "colab": {
          "base_uri": "https://localhost:8080/"
        },
        "id": "FB_aYlaO8tJY",
        "outputId": "9234a006-b57c-4b4e-efa8-b0441c5c6cd7"
      },
      "execution_count": null,
      "outputs": [
        {
          "output_type": "execute_result",
          "data": {
            "text/plain": [
              "[{0: 804, 1: 541, 2: 351},\n",
              " {0: 496, 1: 515, 2: 858},\n",
              " {0: 418, 1: 639, 2: 788},\n",
              " {0: 505, 1: 546, 2: 898},\n",
              " {0: 1080, 1: 595, 2: 601}]"
            ]
          },
          "metadata": {},
          "execution_count": 59
        }
      ]
    },
    {
      "cell_type": "code",
      "source": [
        "for year in years:\n",
        "    plt.figure(figsize=(6, 4))\n",
        "    cluster_values = [cluster_quantity_years[year][i] for i in range(3)]\n",
        "    plt.bar(range(1, 4), cluster_values)\n",
        "    plt.xlabel('Cluster')\n",
        "    plt.ylabel('Number of Companies')\n",
        "    plt.title(f'Number of Companies in Each Cluster for {year}')\n",
        "    plt.xticks(range(1, 4), [f'Cluster {i+1}' for i in range(3)])\n",
        "    plt.grid(True)\n",
        "    plt.show()"
      ],
      "metadata": {
        "colab": {
          "base_uri": "https://localhost:8080/",
          "height": 1000
        },
        "id": "Je7VVTNm_nI5",
        "outputId": "04c333bd-6fa9-437c-d5ec-c5cd1c172273"
      },
      "execution_count": null,
      "outputs": [
        {
          "output_type": "display_data",
          "data": {
            "text/plain": [
              "<Figure size 600x400 with 1 Axes>"
            ],
            "image/png": "[encoded data removed]"
          },
          "metadata": {}
        },
        {
          "output_type": "display_data",
          "data": {
            "text/plain": [
              "<Figure size 600x400 with 1 Axes>"
            ],
            "image/png": "[encoded data removed]"
          },
          "metadata": {}
        },
        {
          "output_type": "display_data",
          "data": {
            "text/plain": [
              "<Figure size 600x400 with 1 Axes>"
            ],
            "image/png": "[encoded data removed]"
          },
          "metadata": {}
        },
        {
          "output_type": "display_data",
          "data": {
            "text/plain": [
              "<Figure size 600x400 with 1 Axes>"
            ],
            "image/png": "[encoded data removed]"
          },
          "metadata": {}
        },
        {
          "output_type": "display_data",
          "data": {
            "text/plain": [
              "<Figure size 600x400 with 1 Axes>"
            ],
            "image/png": "[encoded data removed]"
          },
          "metadata": {}
        }
      ]
    },
    {
      "cell_type": "code",
      "source": [],
      "metadata": {
        "id": "-Em3frWyDlUG"
      },
      "execution_count": null,
      "outputs": []
    }
  ],
  "metadata": {
    "colab": {
      "provenance": []
    },
    "kernelspec": {
      "display_name": "Python 3",
      "name": "python3"
    },
    "language_info": {
      "name": "python"
    }
  },
  "nbformat": 4,
  "nbformat_minor": 0
}